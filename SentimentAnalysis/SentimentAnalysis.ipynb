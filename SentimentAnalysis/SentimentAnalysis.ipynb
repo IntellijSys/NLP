{
 "cells": [
  {
   "cell_type": "markdown",
   "metadata": {},
   "source": [
    "Sentiment Analysis"
   ]
  },
  {
   "cell_type": "code",
   "execution_count": 1,
   "metadata": {
    "collapsed": false
   },
   "outputs": [],
   "source": [
    "%matplotlib inline\n",
    "\n",
    "import json\n",
    "import pandas as pd\n",
    "import matplotlib.pyplot as plt\n",
    "import re\n",
    "import csv\n",
    "import nltk\n",
    "from nltk.corpus import stopwords # Import the stop word list\n",
    "from sklearn.feature_extraction.text import CountVectorizer\n",
    "import numpy as np"
   ]
  },
  {
   "cell_type": "markdown",
   "metadata": {},
   "source": [
    "Word detection function"
   ]
  },
  {
   "cell_type": "code",
   "execution_count": 2,
   "metadata": {
    "collapsed": true
   },
   "outputs": [],
   "source": [
    "def word_in_text(word, text):\n",
    "    word = word.lower()\n",
    "    text = text.lower()\n",
    "    match = re.search(word, text)\n",
    "    if match:\n",
    "        return True\n",
    "    return False"
   ]
  },
  {
   "cell_type": "markdown",
   "metadata": {},
   "source": [
    "Function to deal with Punctuation, Numbers and Stopwords: NLTK and regular expressions"
   ]
  },
  {
   "cell_type": "code",
   "execution_count": 3,
   "metadata": {
    "collapsed": true
   },
   "outputs": [],
   "source": [
    "def review_to_words( raw_review ):\n",
    "    # Function to convert a raw review to a string of words\n",
    "    # The input is a single string (a raw movie review), and \n",
    "    # the output is a single string (a preprocessed movie review)\n",
    "    #\n",
    "    # 1. Remove non-letters        \n",
    "    letters_only = re.sub(\"[^a-zA-Z]\", \" \", raw_review) \n",
    "    #\n",
    "    # 2. Convert to lower case, split into individual words\n",
    "    words = letters_only.lower().split()                             \n",
    "    #\n",
    "    # 3. In Python, searching a set is much faster than searching\n",
    "    #   a list, so convert the stop words to a set\n",
    "    stops = set(stopwords.words(\"english\"))                  \n",
    "    # \n",
    "    # 4. Remove stop words\n",
    "    meaningful_words = [w for w in words if not w in stops]   \n",
    "    #\n",
    "    # 5. Join the words back into one string separated by space, \n",
    "    # and return the result.\n",
    "    return( \" \".join( meaningful_words ))   "
   ]
  },
  {
   "cell_type": "markdown",
   "metadata": {},
   "source": [
    "Read tweeter data"
   ]
  },
  {
   "cell_type": "code",
   "execution_count": 4,
   "metadata": {
    "collapsed": true
   },
   "outputs": [],
   "source": [
    "tweets_data_path = 'data.txt'\n",
    "with open(tweets_data_path) as file:\n",
    "    tweets_data = json.load(file)"
   ]
  },
  {
   "cell_type": "markdown",
   "metadata": {},
   "source": [
    "Print number of tweets"
   ]
  },
  {
   "cell_type": "code",
   "execution_count": 5,
   "metadata": {
    "collapsed": false
   },
   "outputs": [
    {
     "name": "stdout",
     "output_type": "stream",
     "text": [
      "115\n"
     ]
    }
   ],
   "source": [
    "print len(tweets_data)"
   ]
  },
  {
   "cell_type": "markdown",
   "metadata": {},
   "source": [
    "Structure the tweets data into a pandas DataFrame to simplify the data manipulation."
   ]
  },
  {
   "cell_type": "code",
   "execution_count": 6,
   "metadata": {
    "collapsed": false
   },
   "outputs": [],
   "source": [
    "tweets = pd.DataFrame()"
   ]
  },
  {
   "cell_type": "markdown",
   "metadata": {},
   "source": [
    "Add e columns to the tweets DataFrame called text, where text column contains the tweet,"
   ]
  },
  {
   "cell_type": "code",
   "execution_count": 8,
   "metadata": {
    "collapsed": true
   },
   "outputs": [],
   "source": [
    "tweets['text'] = map(lambda tweet: tweet['text'], tweets_data)\n",
    "tweets['lang'] = map(lambda tweet: tweet['lang'], tweets_data)\n",
    "tweets['country'] = map(lambda tweet: tweet['place']['country'] if tweet['place'] != None else None, tweets_data)\n",
    "tweets['sentiment'] = map(lambda tweet: tweet['sentiment'], tweets_data)"
   ]
  },
  {
   "cell_type": "markdown",
   "metadata": {},
   "source": [
    "Read first tweet."
   ]
  },
  {
   "cell_type": "code",
   "execution_count": 10,
   "metadata": {
    "collapsed": false
   },
   "outputs": [
    {
     "name": "stdout",
     "output_type": "stream",
     "text": [
      "Dapat sampul duit raya dari member kerja CIMB Bank https://t.co/o96536Uf0U\n"
     ]
    }
   ],
   "source": [
    "print tweets['text'][0]"
   ]
  },
  {
   "cell_type": "markdown",
   "metadata": {},
   "source": [
    "Remove punctuation and numbers"
   ]
  },
  {
   "cell_type": "code",
   "execution_count": 11,
   "metadata": {
    "collapsed": false
   },
   "outputs": [
    {
     "name": "stdout",
     "output_type": "stream",
     "text": [
      "[u'i', u'me', u'my', u'myself', u'we', u'our', u'ours', u'ourselves', u'you', u'your', u'yours', u'yourself', u'yourselves', u'he', u'him', u'his', u'himself', u'she', u'her', u'hers', u'herself', u'it', u'its', u'itself', u'they', u'them', u'their', u'theirs', u'themselves', u'what', u'which', u'who', u'whom', u'this', u'that', u'these', u'those', u'am', u'is', u'are', u'was', u'were', u'be', u'been', u'being', u'have', u'has', u'had', u'having', u'do', u'does', u'did', u'doing', u'a', u'an', u'the', u'and', u'but', u'if', u'or', u'because', u'as', u'until', u'while', u'of', u'at', u'by', u'for', u'with', u'about', u'against', u'between', u'into', u'through', u'during', u'before', u'after', u'above', u'below', u'to', u'from', u'up', u'down', u'in', u'out', u'on', u'off', u'over', u'under', u'again', u'further', u'then', u'once', u'here', u'there', u'when', u'where', u'why', u'how', u'all', u'any', u'both', u'each', u'few', u'more', u'most', u'other', u'some', u'such', u'no', u'nor', u'not', u'only', u'own', u'same', u'so', u'than', u'too', u'very', u's', u't', u'can', u'will', u'just', u'don', u'should', u'now', u'd', u'll', u'm', u'o', u're', u've', u'y', u'ain', u'aren', u'couldn', u'didn', u'doesn', u'hadn', u'hasn', u'haven', u'isn', u'ma', u'mightn', u'mustn', u'needn', u'shan', u'shouldn', u'wasn', u'weren', u'won', u'wouldn']\n"
     ]
    }
   ],
   "source": [
    "print stopwords.words(\"english\") "
   ]
  },
  {
   "cell_type": "markdown",
   "metadata": {},
   "source": [
    "Create CSV file"
   ]
  },
  {
   "cell_type": "code",
   "execution_count": 12,
   "metadata": {
    "collapsed": false
   },
   "outputs": [],
   "source": [
    "# Open/create a file to append data to\n",
    "csvFile = open('tweet.csv', 'a')\n",
    "\n",
    "#Use csv writer\n",
    "csvWriter = csv.writer(csvFile)\n",
    "\n",
    "for tweet in tweets['text']:\n",
    "    # Write a row to the CSV file. I use encode UTF-8\n",
    "    csvWriter.writerow([tweet.encode('utf-8')])\n",
    "    #print tweet.encode('utf-8')\n",
    "    #print \"\\n\"\n",
    "csvFile.close()"
   ]
  },
  {
   "cell_type": "markdown",
   "metadata": {},
   "source": [
    "Show top 5 languages in which the tweets were written."
   ]
  },
  {
   "cell_type": "code",
   "execution_count": 13,
   "metadata": {
    "collapsed": false
   },
   "outputs": [
    {
     "data": {
      "text/plain": [
       "<matplotlib.axes._subplots.AxesSubplot at 0x10da9fad0>"
      ]
     },
     "execution_count": 13,
     "metadata": {},
     "output_type": "execute_result"
    },
    {
     "data": {
      "image/png": "[encoded data removed]",
      "text/plain": [
       "<matplotlib.figure.Figure at 0x10da8a450>"
      ]
     },
     "metadata": {},
     "output_type": "display_data"
    }
   ],
   "source": [
    "tweets_by_lang = tweets['lang'].value_counts()\n",
    "\n",
    "fig, ax = plt.subplots()\n",
    "ax.tick_params(axis='x', labelsize=15)\n",
    "ax.tick_params(axis='y', labelsize=10)\n",
    "ax.set_xlabel('Languages', fontsize=15)\n",
    "ax.set_ylabel('Number of tweets' , fontsize=15)\n",
    "ax.set_title('Top 5 languages', fontsize=15, fontweight='bold')\n",
    "tweets_by_lang[:5].plot(ax=ax, kind='bar', color='red')"
   ]
  },
  {
   "cell_type": "markdown",
   "metadata": {},
   "source": [
    "Show top 5 countries from which the tweets were sent."
   ]
  },
  {
   "cell_type": "code",
   "execution_count": 14,
   "metadata": {
    "collapsed": false
   },
   "outputs": [
    {
     "data": {
      "text/plain": [
       "<matplotlib.axes._subplots.AxesSubplot at 0x10d8ad2d0>"
      ]
     },
     "execution_count": 14,
     "metadata": {},
     "output_type": "execute_result"
    },
    {
     "data": {
      "image/png": "[encoded data removed]",
      "text/plain": [
       "<matplotlib.figure.Figure at 0x10dae1f50>"
      ]
     },
     "metadata": {},
     "output_type": "display_data"
    }
   ],
   "source": [
    "tweets_by_country = tweets['country'].value_counts()\n",
    "\n",
    "fig, ax = plt.subplots()\n",
    "ax.tick_params(axis='x', labelsize=15)\n",
    "ax.tick_params(axis='y', labelsize=10)\n",
    "ax.set_xlabel('Countries', fontsize=15)\n",
    "ax.set_ylabel('Number of tweets' , fontsize=15)\n",
    "ax.set_title('Top 5 countries', fontsize=15, fontweight='bold')\n",
    "tweets_by_country[:5].plot(ax=ax, kind='bar', color='blue')"
   ]
  },
  {
   "cell_type": "markdown",
   "metadata": {},
   "source": [
    "Add 3 columns to our tweets DataFrame."
   ]
  },
  {
   "cell_type": "code",
   "execution_count": 15,
   "metadata": {
    "collapsed": false
   },
   "outputs": [],
   "source": [
    "tweets['maybank'] = tweets['text'].apply(lambda tweet: word_in_text('maybank', tweet))\n",
    "tweets['cimb'] = tweets['text'].apply(lambda tweet: word_in_text('cimb', tweet))\n",
    "tweets['hong leong'] = tweets['text'].apply(lambda tweet: word_in_text('hong leong', tweet))"
   ]
  },
  {
   "cell_type": "markdown",
   "metadata": {},
   "source": [
    "Calculate the number of tweets for each programming language as follows:"
   ]
  },
  {
   "cell_type": "code",
   "execution_count": 16,
   "metadata": {
    "collapsed": false
   },
   "outputs": [
    {
     "name": "stdout",
     "output_type": "stream",
     "text": [
      "49\n",
      "63\n",
      "6\n"
     ]
    }
   ],
   "source": [
    "print tweets['maybank'].value_counts()[True]\n",
    "print tweets['cimb'].value_counts()[True]\n",
    "print tweets['hong leong'].value_counts()[True]"
   ]
  },
  {
   "cell_type": "markdown",
   "metadata": {},
   "source": [
    "Make a simple comparaison chart by executing the following:"
   ]
  },
  {
   "cell_type": "code",
   "execution_count": 17,
   "metadata": {
    "collapsed": false
   },
   "outputs": [
    {
     "data": {
      "image/png": "[encoded data removed]",
      "text/plain": [
       "<matplotlib.figure.Figure at 0x10db71250>"
      ]
     },
     "metadata": {},
     "output_type": "display_data"
    }
   ],
   "source": [
    "prg_langs = ['maybank', 'cimb', 'hong leong']\n",
    "tweets_by_prg_lang = [tweets['maybank'].value_counts()[True], tweets['cimb'].value_counts()[True], tweets['hong leong'].value_counts()[True]]\n",
    "\n",
    "x_pos = list(range(len(prg_langs)))\n",
    "width = 0.8\n",
    "fig, ax = plt.subplots()\n",
    "plt.bar(x_pos, tweets_by_prg_lang, width, alpha=1, color='g')\n",
    "\n",
    "# Setting axis labels and ticks\n",
    "ax.set_ylabel('Number of tweets', fontsize=15)\n",
    "ax.set_title('Ranking: maybank vs. cimb vs. hong leong (Raw data)', fontsize=10, fontweight='bold')\n",
    "ax.set_xticks([p + 0.4 * width for p in x_pos])\n",
    "ax.set_xticklabels(prg_langs)\n",
    "plt.grid()"
   ]
  },
  {
   "cell_type": "code",
   "execution_count": 18,
   "metadata": {
    "collapsed": false
   },
   "outputs": [
    {
     "name": "stdout",
     "output_type": "stream",
     "text": [
      "Comparision...\n",
      "Dapat sampul duit raya dari member kerja CIMB Bank https://t.co/o96536Uf0U\n",
      "dapat sampul duit raya dari member kerja cimb bank https co uf u\n"
     ]
    }
   ],
   "source": [
    "clean_review = review_to_words( tweets[\"text\"][0] )\n",
    "\n",
    "print \"Comparision...\"\n",
    "print tweets[\"text\"][0]\n",
    "print clean_review"
   ]
  },
  {
   "cell_type": "markdown",
   "metadata": {},
   "source": [
    "Loop through and clean all of the training set at once"
   ]
  },
  {
   "cell_type": "code",
   "execution_count": 19,
   "metadata": {
    "collapsed": true
   },
   "outputs": [],
   "source": [
    "# Get the number of reviews based on the dataframe column size\n",
    "num_reviews = tweets[\"text\"].size\n",
    "\n",
    "# Initialize an empty list to hold the clean reviews\n",
    "clean_train_reviews = []\n",
    "\n",
    "# Loop over each review; create an index i that goes from 0 to the length\n",
    "# of the movie review list \n",
    "for i in xrange( 0, num_reviews ):\n",
    "    # Call our function for each one, and add the result to the list of\n",
    "    # clean reviews\n",
    "    clean_train_reviews.append( review_to_words( tweets[\"text\"][i] ) )"
   ]
  },
  {
   "cell_type": "markdown",
   "metadata": {},
   "source": [
    "Using the feature_extraction module from scikit-learn to create bag-of-words features."
   ]
  },
  {
   "cell_type": "code",
   "execution_count": 20,
   "metadata": {
    "collapsed": true
   },
   "outputs": [],
   "source": [
    "# Initialize the \"CountVectorizer\" object, which is scikit-learn's\n",
    "# bag of words tool.  \n",
    "vectorizer = CountVectorizer(analyzer = \"word\",   \\\n",
    "                             tokenizer = None,    \\\n",
    "                             preprocessor = None, \\\n",
    "                             stop_words = None,   \\\n",
    "                             max_features = 5000) \n",
    "\n",
    "# fit_transform() does two functions: First, it fits the model\n",
    "# and learns the vocabulary; second, it transforms our training data\n",
    "# into feature vectors. The input to fit_transform should be a list of \n",
    "# strings.\n",
    "train_data_features = vectorizer.fit_transform(clean_train_reviews)\n",
    "\n",
    "# Numpy arrays are easy to work with, so convert the result to an \n",
    "# array\n",
    "train_data_features = train_data_features.toarray()"
   ]
  },
  {
   "cell_type": "markdown",
   "metadata": {},
   "source": [
    "Show see what the training data array now looks like"
   ]
  },
  {
   "cell_type": "code",
   "execution_count": 21,
   "metadata": {
    "collapsed": false
   },
   "outputs": [
    {
     "name": "stdout",
     "output_type": "stream",
     "text": [
      "(115, 769)\n"
     ]
    }
   ],
   "source": [
    "print train_data_features.shape"
   ]
  },
  {
   "cell_type": "markdown",
   "metadata": {},
   "source": [
    "Take a look at the words in the vocabulary"
   ]
  },
  {
   "cell_type": "code",
   "execution_count": 22,
   "metadata": {
    "collapsed": false
   },
   "outputs": [
    {
     "name": "stdout",
     "output_type": "stream",
     "text": [
      "[u'aah', u'aan', u'acc', u'account', u'accounts', u'action', u'ada', u'ade', u'adik', u'admin', u'administrasi', u'afternoon', u'ahaha', u'ahh', u'ainsmiley', u'aja', u'ajar', u'aje', u'akan', u'akaun', u'aku', u'alhamdulillah', u'allah', u'allows', u'alphanumeric', u'aman', u'amp', u'analyst', u'anda', u'andytelasai', u'aneh', u'ansuran', u'anty', u'apa', u'apple', u'approve', u'apps', u'apqewm', u'aq', u'aqilahzull', u'arah', u'aritu', u'arpvql', u'asia', u'assists', u'astro', u'atas', u'atieliaaa', u'atm', u'auth', u'auto', u'babe', u'back', u'baik', u'bala', u'balance', u'balik', u'bangi', u'bank', u'banks', u'bantuan', u'banyak', u'baru', u'basraf', u'bayar', u'bayarnya', u'bb', u'bbbjoiioiauaja', u'bchb', u'beban', u'bebas', u'bebetul', u'beli', u'beralih', u'berapa', u'berbelanja', u'berbuka', u'berdiri', u'berhad', u'berjalan', u'berlari', u'bestnya', u'better', u'beverage', u'bg', u'biaya', u'bila', u'bill', u'bintaro', u'bisa', u'biykdwm', u'biznewsfix', u'bjeegn', u'blank', u'blh', u'blom', u'bnga', u'bo', u'boleh', u'boss', u'bravo', u'buat', u'buckled', u'buffet', u'buka', u'bukak', u'bukanmasochism', u'bukber', u'bulanan', u'bumiputra', u'burst', u'business', u'bussiness', u'buy', u'bv', u'bye', u'call', u'canne', u'cannot', u'cara', u'card', u'cards', u'career', u'cawangan', u'cdl', u'celebrate', u'cerita', u'changer', u'characters', u'charging', u'chbn', u'chbnradio', u'cheras', u'choc', u'cicilan', u'cimb', u'cimbclicks', u'cimbniaga', u'city', u'click', u'clicks', u'co', u'code', u'coffee', u'collection', u'commerce', u'consultant', u'cool', u'covfefe', u'craving', u'credit', u'creditcard', u'csdvu', u'ctitalqujh', u'cuma', u'cup', u'cuti', u'da', u'dabdc', u'dah', u'dak', u'dan', u'dapat', u'dari', u'dave', u'day', u'dbroslan', u'de', u'debit', u'debor', u'dek', u'dekat', u'dengan', u'depa', u'depan', u'department', u'deposit', u'dessert', u'developer', u'development', u'dgn', u'dh', u'di', u'dia', u'dikenakan', u'dinner', u'dintaifungindo', u'disalurkan', u'discount', u'disposal', u'diversification', u'dm', u'donation', u'donuts', u'dpn', u'dqrl', u'drop', u'dsr', u'dtg', u'dtmwbs', u'dubywz', u'duduk', u'due', u'duit', u'dulu', u'dunkin', u'dynasty', u'dzjlb', u'dzrzwmc', u'eahh', u'eanus', u'east', u'edge', u'eh', u'eka', u'email', u'esok', u'esoknye', u'esqxxro', u'even', u'extra', u'fa', u'facebook', u'fail', u'family', u'far', u'farihinosteo', u'fast', u'fav', u'fbilykygit', u'fbnutr', u'fd', u'feht', u'fikir', u'finance', u'financial', u'finger', u'fon', u'food', u'format', u'fr', u'free', u'frm', u'ftnsyraaa', u'ga', u'gamaknnya', u'geez', u'geouhyby', u'geram', u'get', u'ghafurbahri', u'ghnxntx', u'gi', u'giant', u'gigih', u'give', u'go', u'goshhhh', u'got', u'grab', u'grabid', u'great', u'group', u'gsftq', u'guna', u'habis', u'hafizhamidun', u'haha', u'hahaha', u'hal', u'hanat', u'hancrone', u'hari', u'harini', u'haritu', u'hashtag', u'hb', u'hbis', u'head', u'hg', u'hh', u'hhaa', u'hmm', u'holdings', u'home', u'honda', u'hong', u'hospitality', u'hotel', u'hprsctlzkz', u'https', u'huhu', u'id', u'iftar', u'ikenotbrain', u'ikhlas', u'ikutan', u'imhpfnmhyn', u'improve', u'including', u'income', u'indeed', u'indonesia', u'info', u'informasinya', u'ini', u'instaphoto', u'insuran', u'intan', u'interest', u'introducing', u'io', u'isentia', u'isi', u'islam', u'islamic', u'izzatianuarhwa', u'ja', u'jadi', u'jantung', u'jap', u'jatuh', u'jawab', u'jaya', u'je', u'jela', u'jiwa', u'jmd', u'job', u'jobs', u'johor', u'join', u'jq', u'jual', u'judge', u'jugaa', u'ka', u'kad', u'kak', u'kalau', u'kamunting', u'kan', u'karena', u'karier', u'kartika', u'kartu', u'kat', u'kata', u'kc', u'kdtyglnvob', u'ke', u'kecil', u'keinkarim', u'keluar', u'kena', u'kenapa', u'keocm', u'kerja', u'kkisvx', u'klang', u'know', u'ko', u'konon', u'kpm', u'kpr', u'kredit', u'krew', u'kt', u'kuala', u'kurangi', u'kure', u'kutipan', u'kwik', u'la', u'lagi', u'lah', u'lain', u'lainnyaa', u'lama', u'lambat', u'langit', u'langsung', u'lantai', u'lawo', u'layan', u'lazada', u'lengkap', u'lenguh', u'leong', u'lepas', u'lepastu', u'letgo', u'link', u'llnt', u'lnvfo', u'loan', u'longer', u'love', u'lumpur', u'ly', u'lylanazlan', u'lylla', u'macam', u'macamana', u'macbook', u'madras', u'main', u'making', u'malaysia', u'malim', u'mana', u'mardhiah', u'markets', u'mastercard', u'masuk', u'mataram', u'mau', u'may', u'maybank', u'maybankers', u'maybankid', u'maybankindonesiaramadan', u'maybankjomraya', u'maybe', u'mbb', u'mbke', u'mcm', u'meet', u'meinmokhtar', u'meja', u'melalui', u'melayani', u'member', u'menara', u'menarik', u'menda', u'mengamok', u'mengharap', u'mengurusnya', u'menti', u'menyumbang', u'merompak', u'mesin', u'mesra', u'mfrs', u'mijetspie', u'milakahbaling', u'mileage', u'min', u'minggu', u'misi', u'mlm', u'mmg', u'mofasad', u'mohon', u'money', u'monthly', u'months', u'move', u'mrc', u'mungkin', u'mxx', u'mymaybank', u'mysore', u'myticketina', u'nak', u'nama', u'named', u'nataja', u'naw', u'ndi', u'need', u'nego', u'net', u'next', u'ni', u'niaga', u'nice', u'niii', u'nisamohdnoor', u'nlxxydcuiu', u'nnzzmn', u'noia', u'nooef', u'num', u'number', u'nyesei', u'odfstwdihd', u'offer', u'offering', u'office', u'oh', u'ok', u'omg', u'opposite', u'orang', u'ore', u'org', u'outlook', u'ovnhvkafpv', u'oww', u'pacific', u'pagi', u'pakai', u'pake', u'palestin', u'paling', u'paradise', u'pastu', u'pay', u'payah', u'payment', u'pe', u'pegi', u'pendaftaran', u'penin', u'penukaran', u'penyakit', u'perak', u'perempuan', u'permaisuri', u'persebayaupdate', u'personal', u'petaling', u'petunjuk', u'pi', u'pin', u'pitisss', u'pkai', u'please', u'plk', u'pm', u'pn', u'pnlnfsdpvf', u'point', u'pon', u'ponsel', u'prepaid', u'press', u'pressing', u'print', u'pro', u'problem', u'processing', u'project', u'promo', u'promote', u'property', u'proses', u'provide', u'pt', u'pukul', u'pulak', u'pun', u'punya', u'putrajaya', u'puyo', u'qd', u'qlkno', u'rakyat', u'rasa', u'raya', u'rayamood', u'ready', u'reason', u'rebet', u'rek', u'rekening', u'requirement', u'research', u'resto', u'result', u'reti', u'rhb', u'rm', u'rodtax', u'room', u'rruf', u'rt', u'rts', u'rumah', u'run', u'ruxmuwz', u'rwzvsyjc', u'safwanseth', u'sajcq', u'sales', u'salurkan', u'sama', u'sambung', u'sampai', u'sampul', u'save', u'saxkrg', u'saya', u'sbb', u'scratch', u'sdh', u'search', u'sebelum', u'sebulan', u'segamat', u'sek', u'sekarang', u'selangor', u'selasa', u'selenge', u'semua', u'sen', u'senawang', u'serious', u'serta', u'seterusnya', u'sginvestors', u'shasharyzal', u'shj', u'show', u'siblsdve', u'sign', u'silky', u'simak', u'singapore', u'sir', u'sisnet', u'skali', u'slip', u'small', u'smpi', u'sorry', u'sph', u'staf', u'start', u'still', u'stxeunseo', u'sumbangan', u'sumedang', u'support', u'suruh', u'susah', u'svmpabyp', u'swipe', u'sy', u'syahirwong', u'syahmirullazmi', u'syarat', u'syariah', u'syedattan', u'symbols', u'system', u'tabungan', u'tadi', u'tahan', u'tahun', u'tak', u'takde', u'take', u'taktau', u'talk', u'taman', u'tamatkan', u'tambah', u'tanjong', u'tapi', u'tarawih', u'tawau', u'td', u'team', u'teams', u'telekung', u'telemarketer', u'tengah', u'tengok', u'terbagi', u'terimakasih', u'teringin', u'terkini', u'ternampak', u'ternmpk', u'ternyata', u'teruskan', u'tetiap', u'tgh', u'tgk', u'tgok', u'thai', u'thank', u'thanks', u'thereafter', u'think', u'thursday', u'tidak', u'tielia', u'tiga', u'tiket', u'till', u'time', u'tipu', u'today', u'tolong', u'tom', u'top', u'touch', u'tp', u'track', u'training', u'transfer', u'tremendous', u'trims', u'trust', u'ttrusgokzk', u'ttshop', u'tu', u'tudung', u'tuka', u'tukar', u'turut', u'tuvs', u'twt', u'uang', u'uf', u'unitar', u'unittttt', u'untuk', u'uol', u'uoo', u'update', u'upgrade', u'us', u'use', u'ust', u'utk', u'uws', u'vacancy', u'vclmavwffp', u'via', u'vid', u'virtual', u'virtualize', u'vqpj', u'wajib', u'wd', u'website', u'weh', u'werk', u'whzrmk', u'wisma', u'wow', u'xldi', u'xpela', u'xuy', u'ya', u'yam', u'yang', u'yeahhhh', u'year', u'yeayy', u'yemen', u'yemenfp', u'yg', u'yha', u'yue', u'yup', u'yurzo', u'ywohnexkst', u'zamzurisuhemi', u'zgtwrs', u'zi', u'zrafarzana', u'zw']\n"
     ]
    }
   ],
   "source": [
    "vocab = vectorizer.get_feature_names()\n",
    "print vocab"
   ]
  },
  {
   "cell_type": "markdown",
   "metadata": {},
   "source": [
    "Print the counts of each word in the vocabulary"
   ]
  },
  {
   "cell_type": "code",
   "execution_count": 23,
   "metadata": {
    "collapsed": false
   },
   "outputs": [
    {
     "name": "stdout",
     "output_type": "stream",
     "text": [
      "1 aah\n",
      "1 aan\n",
      "3 acc\n",
      "4 account\n",
      "1 accounts\n",
      "1 action\n",
      "6 ada\n",
      "3 ade\n",
      "1 adik\n",
      "2 admin\n",
      "1 administrasi\n",
      "1 afternoon\n",
      "1 ahaha\n",
      "1 ahh\n",
      "1 ainsmiley\n",
      "1 aja\n",
      "1 ajar\n",
      "1 aje\n",
      "1 akan\n",
      "2 akaun\n",
      "9 aku\n",
      "1 alhamdulillah\n",
      "1 allah\n",
      "1 allows\n",
      "1 alphanumeric\n",
      "2 aman\n",
      "2 amp\n",
      "1 analyst\n",
      "1 anda\n",
      "2 andytelasai\n",
      "1 aneh\n",
      "1 ansuran\n",
      "1 anty\n",
      "2 apa\n",
      "1 apple\n",
      "1 approve\n",
      "3 apps\n",
      "1 apqewm\n",
      "1 aq\n",
      "1 aqilahzull\n",
      "1 arah\n",
      "1 aritu\n",
      "1 arpvql\n",
      "1 asia\n",
      "1 assists\n",
      "1 astro\n",
      "3 atas\n",
      "2 atieliaaa\n",
      "3 atm\n",
      "1 auth\n",
      "1 auto\n",
      "1 babe\n",
      "1 back\n",
      "1 baik\n",
      "2 bala\n",
      "2 balance\n",
      "1 balik\n",
      "2 bangi\n",
      "9 bank\n",
      "1 banks\n",
      "1 bantuan\n",
      "1 banyak\n",
      "5 baru\n",
      "1 basraf\n",
      "2 bayar\n",
      "1 bayarnya\n",
      "2 bb\n",
      "1 bbbjoiioiauaja\n",
      "1 bchb\n",
      "1 beban\n",
      "1 bebas\n",
      "1 bebetul\n",
      "3 beli\n",
      "1 beralih\n",
      "2 berapa\n",
      "1 berbelanja\n",
      "1 berbuka\n",
      "1 berdiri\n",
      "3 berhad\n",
      "1 berjalan\n",
      "1 berlari\n",
      "1 bestnya\n",
      "2 better\n",
      "1 beverage\n",
      "1 bg\n",
      "3 biaya\n",
      "1 bila\n",
      "1 bill\n",
      "1 bintaro\n",
      "2 bisa\n",
      "1 biykdwm\n",
      "2 biznewsfix\n",
      "1 bjeegn\n",
      "1 blank\n",
      "2 blh\n",
      "1 blom\n",
      "1 bnga\n",
      "1 bo\n",
      "3 boleh\n",
      "1 boss\n",
      "1 bravo\n",
      "3 buat\n",
      "1 buckled\n",
      "1 buffet\n",
      "2 buka\n",
      "2 bukak\n",
      "1 bukanmasochism\n",
      "1 bukber\n",
      "2 bulanan\n",
      "1 bumiputra\n",
      "1 burst\n",
      "1 business\n",
      "1 bussiness\n",
      "1 buy\n",
      "2 bv\n",
      "1 bye\n",
      "2 call\n",
      "1 canne\n",
      "1 cannot\n",
      "1 cara\n",
      "3 card\n",
      "1 cards\n",
      "1 career\n",
      "1 cawangan\n",
      "1 cdl\n",
      "1 celebrate\n",
      "1 cerita\n",
      "1 changer\n",
      "2 characters\n",
      "1 charging\n",
      "1 chbn\n",
      "1 chbnradio\n",
      "1 cheras\n",
      "1 choc\n",
      "1 cicilan\n",
      "68 cimb\n",
      "1 cimbclicks\n",
      "2 cimbniaga\n",
      "1 city\n",
      "5 click\n",
      "3 clicks\n",
      "49 co\n",
      "1 code\n",
      "3 coffee\n",
      "1 collection\n",
      "1 commerce\n",
      "1 consultant\n",
      "1 cool\n",
      "1 covfefe\n",
      "1 craving\n",
      "2 credit\n",
      "1 creditcard\n",
      "1 csdvu\n",
      "1 ctitalqujh\n",
      "1 cuma\n",
      "1 cup\n",
      "1 cuti\n",
      "3 da\n",
      "1 dabdc\n",
      "4 dah\n",
      "1 dak\n",
      "2 dan\n",
      "3 dapat\n",
      "4 dari\n",
      "1 dave\n",
      "1 day\n",
      "1 dbroslan\n",
      "1 de\n",
      "3 debit\n",
      "1 debor\n",
      "1 dek\n",
      "3 dekat\n",
      "4 dengan\n",
      "1 depa\n",
      "4 depan\n",
      "1 department\n",
      "1 deposit\n",
      "2 dessert\n",
      "1 developer\n",
      "1 development\n",
      "4 dgn\n",
      "2 dh\n",
      "7 di\n",
      "3 dia\n",
      "1 dikenakan\n",
      "1 dinner\n",
      "1 dintaifungindo\n",
      "2 disalurkan\n",
      "1 discount\n",
      "1 disposal\n",
      "1 diversification\n",
      "3 dm\n",
      "1 donation\n",
      "1 donuts\n",
      "1 dpn\n",
      "1 dqrl\n",
      "1 drop\n",
      "1 dsr\n",
      "1 dtg\n",
      "1 dtmwbs\n",
      "1 dubywz\n",
      "1 duduk\n",
      "1 due\n",
      "6 duit\n",
      "3 dulu\n",
      "1 dunkin\n",
      "1 dynasty\n",
      "1 dzjlb\n",
      "1 dzrzwmc\n",
      "1 eahh\n",
      "1 eanus\n",
      "1 east\n",
      "2 edge\n",
      "1 eh\n",
      "1 eka\n",
      "1 email\n",
      "1 esok\n",
      "2 esoknye\n",
      "1 esqxxro\n",
      "2 even\n",
      "1 extra\n",
      "1 fa\n",
      "1 facebook\n",
      "1 fail\n",
      "1 family\n",
      "1 far\n",
      "1 farihinosteo\n",
      "3 fast\n",
      "1 fav\n",
      "1 fbilykygit\n",
      "1 fbnutr\n",
      "1 fd\n",
      "1 feht\n",
      "1 fikir\n",
      "1 finance\n",
      "1 financial\n",
      "1 finger\n",
      "1 fon\n",
      "2 food\n",
      "1 format\n",
      "1 fr\n",
      "3 free\n",
      "1 frm\n",
      "1 ftnsyraaa\n",
      "1 ga\n",
      "1 gamaknnya\n",
      "1 geez\n",
      "1 geouhyby\n",
      "1 geram\n",
      "1 get\n",
      "2 ghafurbahri\n",
      "1 ghnxntx\n",
      "2 gi\n",
      "1 giant\n",
      "1 gigih\n",
      "1 give\n",
      "2 go\n",
      "1 goshhhh\n",
      "1 got\n",
      "1 grab\n",
      "1 grabid\n",
      "1 great\n",
      "2 group\n",
      "1 gsftq\n",
      "4 guna\n",
      "2 habis\n",
      "3 hafizhamidun\n",
      "4 haha\n",
      "1 hahaha\n",
      "1 hal\n",
      "1 hanat\n",
      "1 hancrone\n",
      "4 hari\n",
      "1 harini\n",
      "2 haritu\n",
      "1 hashtag\n",
      "1 hb\n",
      "1 hbis\n",
      "1 head\n",
      "1 hg\n",
      "1 hh\n",
      "1 hhaa\n",
      "1 hmm\n",
      "2 holdings\n",
      "1 home\n",
      "1 honda\n",
      "6 hong\n",
      "1 hospitality\n",
      "1 hotel\n",
      "1 hprsctlzkz\n",
      "49 https\n",
      "1 huhu\n",
      "2 id\n",
      "2 iftar\n",
      "1 ikenotbrain\n",
      "1 ikhlas\n",
      "1 ikutan\n",
      "1 imhpfnmhyn\n",
      "1 improve\n",
      "1 including\n",
      "1 income\n",
      "1 indeed\n",
      "4 indonesia\n",
      "1 info\n",
      "1 informasinya\n",
      "1 ini\n",
      "1 instaphoto\n",
      "1 insuran\n",
      "1 intan\n",
      "2 interest\n",
      "1 introducing\n",
      "2 io\n",
      "1 isentia\n",
      "3 isi\n",
      "4 islam\n",
      "2 islamic\n",
      "2 izzatianuarhwa\n",
      "2 ja\n",
      "1 jadi\n",
      "1 jantung\n",
      "1 jap\n",
      "1 jatuh\n",
      "1 jawab\n",
      "1 jaya\n",
      "3 je\n",
      "1 jela\n",
      "1 jiwa\n",
      "1 jmd\n",
      "2 job\n",
      "1 jobs\n",
      "1 johor\n",
      "1 join\n",
      "1 jq\n",
      "2 jual\n",
      "1 judge\n",
      "1 jugaa\n",
      "1 ka\n",
      "3 kad\n",
      "1 kak\n",
      "6 kalau\n",
      "2 kamunting\n",
      "1 kan\n",
      "1 karena\n",
      "1 karier\n",
      "1 kartika\n",
      "1 kartu\n",
      "5 kat\n",
      "1 kata\n",
      "1 kc\n",
      "1 kdtyglnvob\n",
      "7 ke\n",
      "1 kecil\n",
      "1 keinkarim\n",
      "1 keluar\n",
      "4 kena\n",
      "1 kenapa\n",
      "1 keocm\n",
      "2 kerja\n",
      "1 kkisvx\n",
      "1 klang\n",
      "1 know\n",
      "1 ko\n",
      "1 konon\n",
      "1 kpm\n",
      "1 kpr\n",
      "1 kredit\n",
      "1 krew\n",
      "2 kt\n",
      "1 kuala\n",
      "1 kurangi\n",
      "1 kure\n",
      "2 kutipan\n",
      "1 kwik\n",
      "8 la\n",
      "2 lagi\n",
      "3 lah\n",
      "2 lain\n",
      "1 lainnyaa\n",
      "1 lama\n",
      "2 lambat\n",
      "1 langit\n",
      "1 langsung\n",
      "1 lantai\n",
      "2 lawo\n",
      "1 layan\n",
      "6 lazada\n",
      "1 lengkap\n",
      "1 lenguh\n",
      "6 leong\n",
      "1 lepas\n",
      "1 lepastu\n",
      "2 letgo\n",
      "1 link\n",
      "1 llnt\n",
      "1 lnvfo\n",
      "1 loan\n",
      "1 longer\n",
      "2 love\n",
      "1 lumpur\n",
      "1 ly\n",
      "1 lylanazlan\n",
      "1 lylla\n",
      "1 macam\n",
      "1 macamana\n",
      "1 macbook\n",
      "2 madras\n",
      "1 main\n",
      "1 making\n",
      "3 malaysia\n",
      "1 malim\n",
      "4 mana\n",
      "1 mardhiah\n",
      "2 markets\n",
      "6 mastercard\n",
      "1 masuk\n",
      "1 mataram\n",
      "1 mau\n",
      "1 may\n",
      "52 maybank\n",
      "1 maybankers\n",
      "2 maybankid\n",
      "1 maybankindonesiaramadan\n",
      "1 maybankjomraya\n",
      "1 maybe\n",
      "1 mbb\n",
      "1 mbke\n",
      "4 mcm\n",
      "1 meet\n",
      "1 meinmokhtar\n",
      "1 meja\n",
      "3 melalui\n",
      "1 melayani\n",
      "1 member\n",
      "1 menara\n",
      "1 menarik\n",
      "1 menda\n",
      "1 mengamok\n",
      "1 mengharap\n",
      "1 mengurusnya\n",
      "1 menti\n",
      "2 menyumbang\n",
      "1 merompak\n",
      "2 mesin\n",
      "1 mesra\n",
      "1 mfrs\n",
      "2 mijetspie\n",
      "1 milakahbaling\n",
      "1 mileage\n",
      "1 min\n",
      "1 minggu\n",
      "1 misi\n",
      "1 mlm\n",
      "1 mmg\n",
      "1 mofasad\n",
      "3 mohon\n",
      "1 money\n",
      "1 monthly\n",
      "1 months\n",
      "1 move\n",
      "1 mrc\n",
      "1 mungkin\n",
      "1 mxx\n",
      "2 mymaybank\n",
      "2 mysore\n",
      "1 myticketina\n",
      "9 nak\n",
      "3 nama\n",
      "1 named\n",
      "2 nataja\n",
      "2 naw\n",
      "1 ndi\n",
      "1 need\n",
      "2 nego\n",
      "1 net\n",
      "2 next\n",
      "13 ni\n",
      "10 niaga\n",
      "2 nice\n",
      "1 niii\n",
      "1 nisamohdnoor\n",
      "1 nlxxydcuiu\n",
      "1 nnzzmn\n",
      "1 noia\n",
      "1 nooef\n",
      "1 num\n",
      "1 number\n",
      "1 nyesei\n",
      "1 odfstwdihd\n",
      "6 offer\n",
      "1 offering\n",
      "1 office\n",
      "2 oh\n",
      "6 ok\n",
      "1 omg\n",
      "2 opposite\n",
      "1 orang\n",
      "1 ore\n",
      "2 org\n",
      "1 outlook\n",
      "1 ovnhvkafpv\n",
      "1 oww\n",
      "1 pacific\n",
      "1 pagi\n",
      "1 pakai\n",
      "1 pake\n",
      "2 palestin\n",
      "1 paling\n",
      "1 paradise\n",
      "5 pastu\n",
      "2 pay\n",
      "1 payah\n",
      "1 payment\n",
      "1 pe\n",
      "1 pegi\n",
      "1 pendaftaran\n",
      "1 penin\n",
      "1 penukaran\n",
      "1 penyakit\n",
      "1 perak\n",
      "1 perempuan\n",
      "1 permaisuri\n",
      "1 persebayaupdate\n",
      "1 personal\n",
      "1 petaling\n",
      "1 petunjuk\n",
      "1 pi\n",
      "1 pin\n",
      "1 pitisss\n",
      "2 pkai\n",
      "1 please\n",
      "1 plk\n",
      "2 pm\n",
      "1 pn\n",
      "1 pnlnfsdpvf\n",
      "1 point\n",
      "1 pon\n",
      "1 ponsel\n",
      "6 prepaid\n",
      "1 press\n",
      "1 pressing\n",
      "1 print\n",
      "1 pro\n",
      "1 problem\n",
      "1 processing\n",
      "3 project\n",
      "2 promo\n",
      "1 promote\n",
      "1 property\n",
      "1 proses\n",
      "1 provide\n",
      "1 pt\n",
      "1 pukul\n",
      "2 pulak\n",
      "1 pun\n",
      "2 punya\n",
      "1 putrajaya\n",
      "1 puyo\n",
      "1 qd\n",
      "1 qlkno\n",
      "1 rakyat\n",
      "1 rasa\n",
      "2 raya\n",
      "1 rayamood\n",
      "1 ready\n",
      "1 reason\n",
      "1 rebet\n",
      "1 rek\n",
      "1 rekening\n",
      "1 requirement\n",
      "1 research\n",
      "1 resto\n",
      "2 result\n",
      "1 reti\n",
      "3 rhb\n",
      "5 rm\n",
      "1 rodtax\n",
      "1 room\n",
      "1 rruf\n",
      "11 rt\n",
      "1 rts\n",
      "1 rumah\n",
      "1 run\n",
      "1 ruxmuwz\n",
      "1 rwzvsyjc\n",
      "1 safwanseth\n",
      "1 sajcq\n",
      "1 sales\n",
      "2 salurkan\n",
      "1 sama\n",
      "1 sambung\n",
      "3 sampai\n",
      "1 sampul\n",
      "1 save\n",
      "1 saxkrg\n",
      "3 saya\n",
      "2 sbb\n",
      "1 scratch\n",
      "1 sdh\n",
      "2 search\n",
      "2 sebelum\n",
      "1 sebulan\n",
      "2 segamat\n",
      "1 sek\n",
      "1 sekarang\n",
      "2 selangor\n",
      "1 selasa\n",
      "1 selenge\n",
      "3 semua\n",
      "1 sen\n",
      "1 senawang\n",
      "1 serious\n",
      "1 serta\n",
      "1 seterusnya\n",
      "5 sginvestors\n",
      "1 shasharyzal\n",
      "1 shj\n",
      "1 show\n",
      "2 siblsdve\n",
      "1 sign\n",
      "1 silky\n",
      "1 simak\n",
      "2 singapore\n",
      "1 sir\n",
      "1 sisnet\n",
      "1 skali\n",
      "1 slip\n",
      "1 small\n",
      "1 smpi\n",
      "1 sorry\n",
      "1 sph\n",
      "1 staf\n",
      "1 start\n",
      "1 still\n",
      "1 stxeunseo\n",
      "4 sumbangan\n",
      "1 sumedang\n",
      "1 support\n",
      "1 suruh\n",
      "1 susah\n",
      "1 svmpabyp\n",
      "1 swipe\n",
      "1 sy\n",
      "1 syahirwong\n",
      "1 syahmirullazmi\n",
      "1 syarat\n",
      "1 syariah\n",
      "1 syedattan\n",
      "1 symbols\n",
      "2 system\n",
      "2 tabungan\n",
      "1 tadi\n",
      "1 tahan\n",
      "1 tahun\n",
      "4 tak\n",
      "2 takde\n",
      "1 take\n",
      "1 taktau\n",
      "1 talk\n",
      "1 taman\n",
      "1 tamatkan\n",
      "1 tambah\n",
      "1 tanjong\n",
      "2 tapi\n",
      "1 tarawih\n",
      "1 tawau\n",
      "1 td\n",
      "1 team\n",
      "5 teams\n",
      "1 telekung\n",
      "1 telemarketer\n",
      "1 tengah\n",
      "1 tengok\n",
      "1 terbagi\n",
      "1 terimakasih\n",
      "1 teringin\n",
      "2 terkini\n",
      "1 ternampak\n",
      "1 ternmpk\n",
      "1 ternyata\n",
      "2 teruskan\n",
      "1 tetiap\n",
      "1 tgh\n",
      "1 tgk\n",
      "1 tgok\n",
      "1 thai\n",
      "1 thank\n",
      "1 thanks\n",
      "2 thereafter\n",
      "1 think\n",
      "1 thursday\n",
      "2 tidak\n",
      "1 tielia\n",
      "1 tiga\n",
      "1 tiket\n",
      "2 till\n",
      "1 time\n",
      "1 tipu\n",
      "1 today\n",
      "1 tolong\n",
      "1 tom\n",
      "1 top\n",
      "2 touch\n",
      "2 tp\n",
      "1 track\n",
      "1 training\n",
      "2 transfer\n",
      "1 tremendous\n",
      "2 trims\n",
      "1 trust\n",
      "1 ttrusgokzk\n",
      "2 ttshop\n",
      "3 tu\n",
      "2 tudung\n",
      "1 tuka\n",
      "4 tukar\n",
      "1 turut\n",
      "1 tuvs\n",
      "2 twt\n",
      "1 uang\n",
      "1 uf\n",
      "1 unitar\n",
      "1 unittttt\n",
      "6 untuk\n",
      "1 uol\n",
      "1 uoo\n",
      "4 update\n",
      "1 upgrade\n",
      "2 us\n",
      "1 use\n",
      "1 ust\n",
      "2 utk\n",
      "1 uws\n",
      "1 vacancy\n",
      "1 vclmavwffp\n",
      "3 via\n",
      "1 vid\n",
      "1 virtual\n",
      "1 virtualize\n",
      "1 vqpj\n",
      "1 wajib\n",
      "1 wd\n",
      "1 website\n",
      "1 weh\n",
      "1 werk\n",
      "1 whzrmk\n",
      "1 wisma\n",
      "2 wow\n",
      "1 xldi\n",
      "1 xpela\n",
      "1 xuy\n",
      "3 ya\n",
      "1 yam\n",
      "2 yang\n",
      "1 yeahhhh\n",
      "1 year\n",
      "1 yeayy\n",
      "2 yemen\n",
      "4 yemenfp\n",
      "4 yg\n",
      "1 yha\n",
      "1 yue\n",
      "1 yup\n",
      "1 yurzo\n",
      "1 ywohnexkst\n",
      "1 zamzurisuhemi\n",
      "1 zgtwrs\n",
      "1 zi\n",
      "1 zrafarzana\n",
      "1 zw\n"
     ]
    }
   ],
   "source": [
    "# Sum up the counts of each vocabulary word\n",
    "dist = np.sum(train_data_features, axis=0)\n",
    "\n",
    "# For each, print the vocabulary word and the number of times it \n",
    "# appears in the training set\n",
    "for tag, count in zip(vocab, dist):\n",
    "    print count, tag"
   ]
  },
  {
   "cell_type": "markdown",
   "metadata": {},
   "source": [
    "Use the Random Forest classifier"
   ]
  },
  {
   "cell_type": "code",
   "execution_count": 24,
   "metadata": {
    "collapsed": false
   },
   "outputs": [
    {
     "name": "stdout",
     "output_type": "stream",
     "text": [
      "Training the random forest...\n"
     ]
    }
   ],
   "source": [
    "print \"Training the random forest...\"\n",
    "from sklearn.ensemble import RandomForestClassifier\n",
    "\n",
    "# Initialize a Random Forest classifier with 100 trees\n",
    "forest = RandomForestClassifier(n_estimators = 100) \n",
    "\n",
    "# Fit the forest to the training set, using the bag of words as \n",
    "# features and the sentiment labels as the response variable\n",
    "#\n",
    "# This may take a few minutes to run\n",
    "forest = forest.fit( train_data_features, tweets[\"sentiment\"] )"
   ]
  },
  {
   "cell_type": "markdown",
   "metadata": {},
   "source": [
    "Prediction"
   ]
  },
  {
   "cell_type": "code",
   "execution_count": 25,
   "metadata": {
    "collapsed": false
   },
   "outputs": [
    {
     "ename": "IOError",
     "evalue": "File testData.tsv does not exist",
     "output_type": "error",
     "traceback": [
      "\u001b[0;31m---------------------------------------------------------------------------\u001b[0m",
      "\u001b[0;31mIOError\u001b[0m                                   Traceback (most recent call last)",
      "\u001b[0;32m<ipython-input-25-0206ce07d77b>\u001b[0m in \u001b[0;36m<module>\u001b[0;34m()\u001b[0m\n\u001b[1;32m      1\u001b[0m \u001b[0;31m# Read the test data\u001b[0m\u001b[0;34m\u001b[0m\u001b[0;34m\u001b[0m\u001b[0m\n\u001b[0;32m----> 2\u001b[0;31m \u001b[0mtest\u001b[0m \u001b[0;34m=\u001b[0m \u001b[0mpd\u001b[0m\u001b[0;34m.\u001b[0m\u001b[0mread_csv\u001b[0m\u001b[0;34m(\u001b[0m\u001b[0;34m\"testData.tsv\"\u001b[0m\u001b[0;34m,\u001b[0m \u001b[0mheader\u001b[0m\u001b[0;34m=\u001b[0m\u001b[0;36m0\u001b[0m\u001b[0;34m,\u001b[0m \u001b[0mdelimiter\u001b[0m\u001b[0;34m=\u001b[0m\u001b[0;34m\"\\t\"\u001b[0m\u001b[0;34m,\u001b[0m                    \u001b[0mquoting\u001b[0m\u001b[0;34m=\u001b[0m\u001b[0;36m3\u001b[0m \u001b[0;34m)\u001b[0m\u001b[0;34m\u001b[0m\u001b[0m\n\u001b[0m\u001b[1;32m      3\u001b[0m \u001b[0;34m\u001b[0m\u001b[0m\n\u001b[1;32m      4\u001b[0m \u001b[0;31m# Verify that there are 25,000 rows and 2 columns\u001b[0m\u001b[0;34m\u001b[0m\u001b[0;34m\u001b[0m\u001b[0m\n\u001b[1;32m      5\u001b[0m \u001b[0;32mprint\u001b[0m \u001b[0mtest\u001b[0m\u001b[0;34m.\u001b[0m\u001b[0mshape\u001b[0m\u001b[0;34m\u001b[0m\u001b[0m\n",
      "\u001b[0;32m/usr/local/lib/python2.7/site-packages/pandas/io/parsers.pyc\u001b[0m in \u001b[0;36mparser_f\u001b[0;34m(filepath_or_buffer, sep, dialect, compression, doublequote, escapechar, quotechar, quoting, skipinitialspace, lineterminator, header, index_col, names, prefix, skiprows, skipfooter, skip_footer, na_values, true_values, false_values, delimiter, converters, dtype, usecols, engine, delim_whitespace, as_recarray, na_filter, compact_ints, use_unsigned, low_memory, buffer_lines, warn_bad_lines, error_bad_lines, keep_default_na, thousands, comment, decimal, parse_dates, keep_date_col, dayfirst, date_parser, memory_map, float_precision, nrows, iterator, chunksize, verbose, encoding, squeeze, mangle_dupe_cols, tupleize_cols, infer_datetime_format, skip_blank_lines)\u001b[0m\n\u001b[1;32m    489\u001b[0m                     skip_blank_lines=skip_blank_lines)\n\u001b[1;32m    490\u001b[0m \u001b[0;34m\u001b[0m\u001b[0m\n\u001b[0;32m--> 491\u001b[0;31m         \u001b[0;32mreturn\u001b[0m \u001b[0m_read\u001b[0m\u001b[0;34m(\u001b[0m\u001b[0mfilepath_or_buffer\u001b[0m\u001b[0;34m,\u001b[0m \u001b[0mkwds\u001b[0m\u001b[0;34m)\u001b[0m\u001b[0;34m\u001b[0m\u001b[0m\n\u001b[0m\u001b[1;32m    492\u001b[0m \u001b[0;34m\u001b[0m\u001b[0m\n\u001b[1;32m    493\u001b[0m     \u001b[0mparser_f\u001b[0m\u001b[0;34m.\u001b[0m\u001b[0m__name__\u001b[0m \u001b[0;34m=\u001b[0m \u001b[0mname\u001b[0m\u001b[0;34m\u001b[0m\u001b[0m\n",
      "\u001b[0;32m/usr/local/lib/python2.7/site-packages/pandas/io/parsers.pyc\u001b[0m in \u001b[0;36m_read\u001b[0;34m(filepath_or_buffer, kwds)\u001b[0m\n\u001b[1;32m    266\u001b[0m \u001b[0;34m\u001b[0m\u001b[0m\n\u001b[1;32m    267\u001b[0m     \u001b[0;31m# Create the parser.\u001b[0m\u001b[0;34m\u001b[0m\u001b[0;34m\u001b[0m\u001b[0m\n\u001b[0;32m--> 268\u001b[0;31m     \u001b[0mparser\u001b[0m \u001b[0;34m=\u001b[0m \u001b[0mTextFileReader\u001b[0m\u001b[0;34m(\u001b[0m\u001b[0mfilepath_or_buffer\u001b[0m\u001b[0;34m,\u001b[0m \u001b[0;34m**\u001b[0m\u001b[0mkwds\u001b[0m\u001b[0;34m)\u001b[0m\u001b[0;34m\u001b[0m\u001b[0m\n\u001b[0m\u001b[1;32m    269\u001b[0m \u001b[0;34m\u001b[0m\u001b[0m\n\u001b[1;32m    270\u001b[0m     \u001b[0;32mif\u001b[0m \u001b[0;34m(\u001b[0m\u001b[0mnrows\u001b[0m \u001b[0;32mis\u001b[0m \u001b[0;32mnot\u001b[0m \u001b[0mNone\u001b[0m\u001b[0;34m)\u001b[0m \u001b[0;32mand\u001b[0m \u001b[0;34m(\u001b[0m\u001b[0mchunksize\u001b[0m \u001b[0;32mis\u001b[0m \u001b[0;32mnot\u001b[0m \u001b[0mNone\u001b[0m\u001b[0;34m)\u001b[0m\u001b[0;34m:\u001b[0m\u001b[0;34m\u001b[0m\u001b[0m\n",
      "\u001b[0;32m/usr/local/lib/python2.7/site-packages/pandas/io/parsers.pyc\u001b[0m in \u001b[0;36m__init__\u001b[0;34m(self, f, engine, **kwds)\u001b[0m\n\u001b[1;32m    581\u001b[0m             \u001b[0mself\u001b[0m\u001b[0;34m.\u001b[0m\u001b[0moptions\u001b[0m\u001b[0;34m[\u001b[0m\u001b[0;34m'has_index_names'\u001b[0m\u001b[0;34m]\u001b[0m \u001b[0;34m=\u001b[0m \u001b[0mkwds\u001b[0m\u001b[0;34m[\u001b[0m\u001b[0;34m'has_index_names'\u001b[0m\u001b[0;34m]\u001b[0m\u001b[0;34m\u001b[0m\u001b[0m\n\u001b[1;32m    582\u001b[0m \u001b[0;34m\u001b[0m\u001b[0m\n\u001b[0;32m--> 583\u001b[0;31m         \u001b[0mself\u001b[0m\u001b[0;34m.\u001b[0m\u001b[0m_make_engine\u001b[0m\u001b[0;34m(\u001b[0m\u001b[0mself\u001b[0m\u001b[0;34m.\u001b[0m\u001b[0mengine\u001b[0m\u001b[0;34m)\u001b[0m\u001b[0;34m\u001b[0m\u001b[0m\n\u001b[0m\u001b[1;32m    584\u001b[0m \u001b[0;34m\u001b[0m\u001b[0m\n\u001b[1;32m    585\u001b[0m     \u001b[0;32mdef\u001b[0m \u001b[0m_get_options_with_defaults\u001b[0m\u001b[0;34m(\u001b[0m\u001b[0mself\u001b[0m\u001b[0;34m,\u001b[0m \u001b[0mengine\u001b[0m\u001b[0;34m)\u001b[0m\u001b[0;34m:\u001b[0m\u001b[0;34m\u001b[0m\u001b[0m\n",
      "\u001b[0;32m/usr/local/lib/python2.7/site-packages/pandas/io/parsers.pyc\u001b[0m in \u001b[0;36m_make_engine\u001b[0;34m(self, engine)\u001b[0m\n\u001b[1;32m    722\u001b[0m     \u001b[0;32mdef\u001b[0m \u001b[0m_make_engine\u001b[0m\u001b[0;34m(\u001b[0m\u001b[0mself\u001b[0m\u001b[0;34m,\u001b[0m \u001b[0mengine\u001b[0m\u001b[0;34m=\u001b[0m\u001b[0;34m'c'\u001b[0m\u001b[0;34m)\u001b[0m\u001b[0;34m:\u001b[0m\u001b[0;34m\u001b[0m\u001b[0m\n\u001b[1;32m    723\u001b[0m         \u001b[0;32mif\u001b[0m \u001b[0mengine\u001b[0m \u001b[0;34m==\u001b[0m \u001b[0;34m'c'\u001b[0m\u001b[0;34m:\u001b[0m\u001b[0;34m\u001b[0m\u001b[0m\n\u001b[0;32m--> 724\u001b[0;31m             \u001b[0mself\u001b[0m\u001b[0;34m.\u001b[0m\u001b[0m_engine\u001b[0m \u001b[0;34m=\u001b[0m \u001b[0mCParserWrapper\u001b[0m\u001b[0;34m(\u001b[0m\u001b[0mself\u001b[0m\u001b[0;34m.\u001b[0m\u001b[0mf\u001b[0m\u001b[0;34m,\u001b[0m \u001b[0;34m**\u001b[0m\u001b[0mself\u001b[0m\u001b[0;34m.\u001b[0m\u001b[0moptions\u001b[0m\u001b[0;34m)\u001b[0m\u001b[0;34m\u001b[0m\u001b[0m\n\u001b[0m\u001b[1;32m    725\u001b[0m         \u001b[0;32melse\u001b[0m\u001b[0;34m:\u001b[0m\u001b[0;34m\u001b[0m\u001b[0m\n\u001b[1;32m    726\u001b[0m             \u001b[0;32mif\u001b[0m \u001b[0mengine\u001b[0m \u001b[0;34m==\u001b[0m \u001b[0;34m'python'\u001b[0m\u001b[0;34m:\u001b[0m\u001b[0;34m\u001b[0m\u001b[0m\n",
      "\u001b[0;32m/usr/local/lib/python2.7/site-packages/pandas/io/parsers.pyc\u001b[0m in \u001b[0;36m__init__\u001b[0;34m(self, src, **kwds)\u001b[0m\n\u001b[1;32m   1091\u001b[0m         \u001b[0mkwds\u001b[0m\u001b[0;34m[\u001b[0m\u001b[0;34m'allow_leading_cols'\u001b[0m\u001b[0;34m]\u001b[0m \u001b[0;34m=\u001b[0m \u001b[0mself\u001b[0m\u001b[0;34m.\u001b[0m\u001b[0mindex_col\u001b[0m \u001b[0;32mis\u001b[0m \u001b[0;32mnot\u001b[0m \u001b[0mFalse\u001b[0m\u001b[0;34m\u001b[0m\u001b[0m\n\u001b[1;32m   1092\u001b[0m \u001b[0;34m\u001b[0m\u001b[0m\n\u001b[0;32m-> 1093\u001b[0;31m         \u001b[0mself\u001b[0m\u001b[0;34m.\u001b[0m\u001b[0m_reader\u001b[0m \u001b[0;34m=\u001b[0m \u001b[0m_parser\u001b[0m\u001b[0;34m.\u001b[0m\u001b[0mTextReader\u001b[0m\u001b[0;34m(\u001b[0m\u001b[0msrc\u001b[0m\u001b[0;34m,\u001b[0m \u001b[0;34m**\u001b[0m\u001b[0mkwds\u001b[0m\u001b[0;34m)\u001b[0m\u001b[0;34m\u001b[0m\u001b[0m\n\u001b[0m\u001b[1;32m   1094\u001b[0m \u001b[0;34m\u001b[0m\u001b[0m\n\u001b[1;32m   1095\u001b[0m         \u001b[0;31m# XXX\u001b[0m\u001b[0;34m\u001b[0m\u001b[0;34m\u001b[0m\u001b[0m\n",
      "\u001b[0;32mpandas/parser.pyx\u001b[0m in \u001b[0;36mpandas.parser.TextReader.__cinit__ (pandas/parser.c:3229)\u001b[0;34m()\u001b[0m\n",
      "\u001b[0;32mpandas/parser.pyx\u001b[0m in \u001b[0;36mpandas.parser.TextReader._setup_parser_source (pandas/parser.c:6042)\u001b[0;34m()\u001b[0m\n",
      "\u001b[0;31mIOError\u001b[0m: File testData.tsv does not exist"
     ]
    }
   ],
   "source": [
    "# Read the test data\n",
    "test = pd.read_csv(\"testData.tsv\", header=0, delimiter=\"\\t\", \\\n",
    "                   quoting=3 )\n",
    "\n",
    "# Verify that there are 25,000 rows and 2 columns\n",
    "print test.shape\n",
    "\n",
    "# Create an empty list and append the clean reviews one by one\n",
    "num_reviews = len(test[\"text\"])\n",
    "clean_test_reviews = [] \n",
    "\n",
    "print \"Cleaning and parsing the test set...\\n\"\n",
    "for i in xrange(0,num_reviews):\n",
    "    if( (i+1) % 1000 == 0 ):\n",
    "        print \"Text %d of %d\\n\" % (i+1, num_reviews)\n",
    "    clean_review = review_to_words( test[\"text\"][i] )\n",
    "    clean_test_reviews.append( clean_review )\n",
    "\n",
    "# Get a bag of words for the test set, and convert to a numpy array\n",
    "test_data_features = vectorizer.transform(clean_test_reviews)\n",
    "test_data_features = test_data_features.toarray()\n",
    "\n",
    "# Use the random forest to make sentiment label predictions\n",
    "result = forest.predict(test_data_features)\n",
    "\n",
    "# Copy the results to a pandas dataframe with an \"id\" column and\n",
    "# a \"sentiment\" column\n",
    "output = pd.DataFrame( data={\"id\":test[\"id\"], \"sentiment\":result} )\n",
    "\n",
    "# Use pandas to write the comma-separated output file\n",
    "output.to_csv( \"Bag_of_Words_model.csv\", index=False, quoting=3 )"
   ]
  },
  {
   "cell_type": "code",
   "execution_count": null,
   "metadata": {
    "collapsed": true
   },
   "outputs": [],
   "source": []
  }
 ],
 "metadata": {
  "kernelspec": {
   "display_name": "Python 2",
   "language": "python",
   "name": "python2"
  },
  "language_info": {
   "codemirror_mode": {
    "name": "ipython",
    "version": 2
   },
   "file_extension": ".py",
   "mimetype": "text/x-python",
   "name": "python",
   "nbconvert_exporter": "python",
   "pygments_lexer": "ipython2",
   "version": "2.7.11"
  }
 },
 "nbformat": 4,
 "nbformat_minor": 0
}
