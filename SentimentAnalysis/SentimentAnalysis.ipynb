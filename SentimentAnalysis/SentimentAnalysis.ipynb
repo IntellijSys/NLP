{
 "cells": [
  {
   "cell_type": "markdown",
   "metadata": {},
   "source": [
    "Sentiment Analysis"
   ]
  },
  {
   "cell_type": "code",
   "execution_count": 1,
   "metadata": {
    "collapsed": false
   },
   "outputs": [],
   "source": [
    "%matplotlib inline\n",
    "\n",
    "import json\n",
    "import pandas as pd\n",
    "import matplotlib.pyplot as plt\n",
    "import re\n",
    "import csv\n",
    "import nltk\n",
    "from nltk.corpus import stopwords # Import the stop word list\n",
    "from sklearn.feature_extraction.text import CountVectorizer\n",
    "import numpy as np"
   ]
  },
  {
   "cell_type": "markdown",
   "metadata": {},
   "source": [
    "Word detection function"
   ]
  },
  {
   "cell_type": "code",
   "execution_count": 2,
   "metadata": {
    "collapsed": true
   },
   "outputs": [],
   "source": [
    "def word_in_text(word, text):\n",
    "    word = word.lower()\n",
    "    text = text.lower()\n",
    "    match = re.search(word, text)\n",
    "    if match:\n",
    "        return True\n",
    "    return False"
   ]
  },
  {
   "cell_type": "markdown",
   "metadata": {},
   "source": [
    "Function to deal with Punctuation, Numbers and Stopwords: NLTK and regular expressions"
   ]
  },
  {
   "cell_type": "code",
   "execution_count": 3,
   "metadata": {
    "collapsed": true
   },
   "outputs": [],
   "source": [
    "def review_to_words( raw_review ):\n",
    "    # Function to convert a raw review to a string of words\n",
    "    # The input is a single string (a raw movie review), and \n",
    "    # the output is a single string (a preprocessed movie review)\n",
    "    #\n",
    "    # 1. Remove non-letters        \n",
    "    letters_only = re.sub(\"[^a-zA-Z]\", \" \", raw_review) \n",
    "    #\n",
    "    # 2. Convert to lower case, split into individual words\n",
    "    words = letters_only.lower().split()                             \n",
    "    #\n",
    "    # 3. In Python, searching a set is much faster than searching\n",
    "    #   a list, so convert the stop words to a set\n",
    "    stops = set(stopwords.words(\"english\"))                  \n",
    "    # \n",
    "    # 4. Remove stop words\n",
    "    meaningful_words = [w for w in words if not w in stops]   \n",
    "    #\n",
    "    # 5. Join the words back into one string separated by space, \n",
    "    # and return the result.\n",
    "    return( \" \".join( meaningful_words ))   "
   ]
  },
  {
   "cell_type": "markdown",
   "metadata": {},
   "source": [
    "Read tweeter data"
   ]
  },
  {
   "cell_type": "code",
   "execution_count": 4,
   "metadata": {
    "collapsed": true
   },
   "outputs": [],
   "source": [
    "tweets_data_path = 'twitter_data_1.txt'\n",
    "\n",
    "tweets_data = []\n",
    "tweets_file = open(tweets_data_path, \"r\")\n",
    "for line in tweets_file:\n",
    "    try:\n",
    "        tweet = json.loads(line)\n",
    "        tweets_data.append(tweet)\n",
    "    except:\n",
    "        continue"
   ]
  },
  {
   "cell_type": "markdown",
   "metadata": {},
   "source": [
    "Print number of tweets"
   ]
  },
  {
   "cell_type": "code",
   "execution_count": 5,
   "metadata": {
    "collapsed": false
   },
   "outputs": [
    {
     "name": "stdout",
     "output_type": "stream",
     "text": [
      "269\n"
     ]
    }
   ],
   "source": [
    "print len(tweets_data)"
   ]
  },
  {
   "cell_type": "markdown",
   "metadata": {},
   "source": [
    "Structure the tweets data into a pandas DataFrame to simplify the data manipulation."
   ]
  },
  {
   "cell_type": "code",
   "execution_count": 6,
   "metadata": {
    "collapsed": false
   },
   "outputs": [],
   "source": [
    "tweets = pd.DataFrame()"
   ]
  },
  {
   "cell_type": "markdown",
   "metadata": {},
   "source": [
    "Add 1 column to the tweets DataFrame called text, where text column contains the tweet,"
   ]
  },
  {
   "cell_type": "code",
   "execution_count": 7,
   "metadata": {
    "collapsed": true
   },
   "outputs": [],
   "source": [
    "tweets['text'] = map(lambda tweet: tweet['text'], tweets_data)\n",
    "tweets['lang'] = map(lambda tweet: tweet['lang'], tweets_data)\n",
    "tweets['country'] = map(lambda tweet: tweet['place']['country'] if tweet['place'] != None else None, tweets_data)"
   ]
  },
  {
   "cell_type": "markdown",
   "metadata": {},
   "source": [
    "Read first tweet."
   ]
  },
  {
   "cell_type": "code",
   "execution_count": 8,
   "metadata": {
    "collapsed": false
   },
   "outputs": [
    {
     "name": "stdout",
     "output_type": "stream",
     "text": [
      "@ahmadhisan dataran senawang. Menghadap Maybank carilah Pot Meatballs. Dia buka malam pukul 7\n"
     ]
    }
   ],
   "source": [
    "print tweets['text'][0]"
   ]
  },
  {
   "cell_type": "markdown",
   "metadata": {},
   "source": [
    "Remove punctuation and numbers"
   ]
  },
  {
   "cell_type": "code",
   "execution_count": 9,
   "metadata": {
    "collapsed": false
   },
   "outputs": [
    {
     "name": "stdout",
     "output_type": "stream",
     "text": [
      "[u'i', u'me', u'my', u'myself', u'we', u'our', u'ours', u'ourselves', u'you', u'your', u'yours', u'yourself', u'yourselves', u'he', u'him', u'his', u'himself', u'she', u'her', u'hers', u'herself', u'it', u'its', u'itself', u'they', u'them', u'their', u'theirs', u'themselves', u'what', u'which', u'who', u'whom', u'this', u'that', u'these', u'those', u'am', u'is', u'are', u'was', u'were', u'be', u'been', u'being', u'have', u'has', u'had', u'having', u'do', u'does', u'did', u'doing', u'a', u'an', u'the', u'and', u'but', u'if', u'or', u'because', u'as', u'until', u'while', u'of', u'at', u'by', u'for', u'with', u'about', u'against', u'between', u'into', u'through', u'during', u'before', u'after', u'above', u'below', u'to', u'from', u'up', u'down', u'in', u'out', u'on', u'off', u'over', u'under', u'again', u'further', u'then', u'once', u'here', u'there', u'when', u'where', u'why', u'how', u'all', u'any', u'both', u'each', u'few', u'more', u'most', u'other', u'some', u'such', u'no', u'nor', u'not', u'only', u'own', u'same', u'so', u'than', u'too', u'very', u's', u't', u'can', u'will', u'just', u'don', u'should', u'now', u'd', u'll', u'm', u'o', u're', u've', u'y', u'ain', u'aren', u'couldn', u'didn', u'doesn', u'hadn', u'hasn', u'haven', u'isn', u'ma', u'mightn', u'mustn', u'needn', u'shan', u'shouldn', u'wasn', u'weren', u'won', u'wouldn']\n"
     ]
    }
   ],
   "source": [
    "print stopwords.words(\"english\") "
   ]
  },
  {
   "cell_type": "markdown",
   "metadata": {},
   "source": [
    "Create CSV file"
   ]
  },
  {
   "cell_type": "code",
   "execution_count": 10,
   "metadata": {
    "collapsed": false
   },
   "outputs": [],
   "source": [
    "# Open/create a file to append data to\n",
    "csvFile = open('tweet.csv', 'a')\n",
    "\n",
    "#Use csv writer\n",
    "csvWriter = csv.writer(csvFile)\n",
    "\n",
    "for tweet in tweets['text']:\n",
    "    # Write a row to the CSV file. I use encode UTF-8\n",
    "    csvWriter.writerow([tweet.encode('utf-8')])\n",
    "    #print tweet.encode('utf-8')\n",
    "    #print \"\\n\"\n",
    "csvFile.close()"
   ]
  },
  {
   "cell_type": "markdown",
   "metadata": {},
   "source": [
    "Show top 5 languages in which the tweets were written."
   ]
  },
  {
   "cell_type": "code",
   "execution_count": 11,
   "metadata": {
    "collapsed": false
   },
   "outputs": [
    {
     "data": {
      "text/plain": [
       "<matplotlib.axes._subplots.AxesSubplot at 0x10dd26090>"
      ]
     },
     "execution_count": 11,
     "metadata": {},
     "output_type": "execute_result"
    },
    {
     "data": {
      "image/png": "[encoded data removed]",
      "text/plain": [
       "<matplotlib.figure.Figure at 0x1081334d0>"
      ]
     },
     "metadata": {},
     "output_type": "display_data"
    }
   ],
   "source": [
    "tweets_by_lang = tweets['lang'].value_counts()\n",
    "\n",
    "fig, ax = plt.subplots()\n",
    "ax.tick_params(axis='x', labelsize=15)\n",
    "ax.tick_params(axis='y', labelsize=10)\n",
    "ax.set_xlabel('Languages', fontsize=15)\n",
    "ax.set_ylabel('Number of tweets' , fontsize=15)\n",
    "ax.set_title('Top 5 languages', fontsize=15, fontweight='bold')\n",
    "tweets_by_lang[:5].plot(ax=ax, kind='bar', color='red')"
   ]
  },
  {
   "cell_type": "markdown",
   "metadata": {},
   "source": [
    "Show top 5 countries from which the tweets were sent."
   ]
  },
  {
   "cell_type": "code",
   "execution_count": 12,
   "metadata": {
    "collapsed": false
   },
   "outputs": [
    {
     "data": {
      "text/plain": [
       "<matplotlib.axes._subplots.AxesSubplot at 0x10de51a50>"
      ]
     },
     "execution_count": 12,
     "metadata": {},
     "output_type": "execute_result"
    },
    {
     "data": {
      "image/png": "[encoded data removed]",
      "text/plain": [
       "<matplotlib.figure.Figure at 0x108133450>"
      ]
     },
     "metadata": {},
     "output_type": "display_data"
    }
   ],
   "source": [
    "tweets_by_country = tweets['country'].value_counts()\n",
    "\n",
    "fig, ax = plt.subplots()\n",
    "ax.tick_params(axis='x', labelsize=15)\n",
    "ax.tick_params(axis='y', labelsize=10)\n",
    "ax.set_xlabel('Countries', fontsize=15)\n",
    "ax.set_ylabel('Number of tweets' , fontsize=15)\n",
    "ax.set_title('Top 5 countries', fontsize=15, fontweight='bold')\n",
    "tweets_by_country[:5].plot(ax=ax, kind='bar', color='blue')"
   ]
  },
  {
   "cell_type": "markdown",
   "metadata": {},
   "source": [
    "Add 3 columns to our tweets DataFrame."
   ]
  },
  {
   "cell_type": "code",
   "execution_count": 13,
   "metadata": {
    "collapsed": false
   },
   "outputs": [],
   "source": [
    "tweets['maybank'] = tweets['text'].apply(lambda tweet: word_in_text('maybank', tweet))\n",
    "tweets['cimb'] = tweets['text'].apply(lambda tweet: word_in_text('cimb', tweet))\n",
    "tweets['hong leong'] = tweets['text'].apply(lambda tweet: word_in_text('hong leong', tweet))"
   ]
  },
  {
   "cell_type": "markdown",
   "metadata": {},
   "source": [
    "Calculate the number of tweets for each programming language as follows:"
   ]
  },
  {
   "cell_type": "code",
   "execution_count": 14,
   "metadata": {
    "collapsed": false
   },
   "outputs": [
    {
     "name": "stdout",
     "output_type": "stream",
     "text": [
      "84\n",
      "83\n",
      "6\n"
     ]
    }
   ],
   "source": [
    "print tweets['maybank'].value_counts()[True]\n",
    "print tweets['cimb'].value_counts()[True]\n",
    "print tweets['hong leong'].value_counts()[True]"
   ]
  },
  {
   "cell_type": "markdown",
   "metadata": {},
   "source": [
    "Make a simple comparaison chart by executing the following:"
   ]
  },
  {
   "cell_type": "code",
   "execution_count": 15,
   "metadata": {
    "collapsed": false
   },
   "outputs": [
    {
     "data": {
      "image/png": "[encoded data removed]",
      "text/plain": [
       "<matplotlib.figure.Figure at 0x10dcd4fd0>"
      ]
     },
     "metadata": {},
     "output_type": "display_data"
    }
   ],
   "source": [
    "prg_langs = ['maybank', 'cimb', 'hong leong']\n",
    "tweets_by_prg_lang = [tweets['maybank'].value_counts()[True], tweets['cimb'].value_counts()[True], tweets['hong leong'].value_counts()[True]]\n",
    "\n",
    "x_pos = list(range(len(prg_langs)))\n",
    "width = 0.8\n",
    "fig, ax = plt.subplots()\n",
    "plt.bar(x_pos, tweets_by_prg_lang, width, alpha=1, color='g')\n",
    "\n",
    "# Setting axis labels and ticks\n",
    "ax.set_ylabel('Number of tweets', fontsize=15)\n",
    "ax.set_title('Ranking: maybank vs. cimb vs. hong leong (Raw data)', fontsize=10, fontweight='bold')\n",
    "ax.set_xticks([p + 0.4 * width for p in x_pos])\n",
    "ax.set_xticklabels(prg_langs)\n",
    "plt.grid()"
   ]
  },
  {
   "cell_type": "code",
   "execution_count": 16,
   "metadata": {
    "collapsed": false
   },
   "outputs": [
    {
     "name": "stdout",
     "output_type": "stream",
     "text": [
      "Comparision...\n",
      "@ahmadhisan dataran senawang. Menghadap Maybank carilah Pot Meatballs. Dia buka malam pukul 7\n",
      "ahmadhisan dataran senawang menghadap maybank carilah pot meatballs dia buka malam pukul\n"
     ]
    }
   ],
   "source": [
    "clean_review = review_to_words( tweets[\"text\"][0] )\n",
    "\n",
    "print \"Comparision...\"\n",
    "print tweets[\"text\"][0]\n",
    "print clean_review"
   ]
  },
  {
   "cell_type": "markdown",
   "metadata": {},
   "source": [
    "Loop through and clean all of the training set at once"
   ]
  },
  {
   "cell_type": "code",
   "execution_count": 17,
   "metadata": {
    "collapsed": true
   },
   "outputs": [],
   "source": [
    "# Get the number of reviews based on the dataframe column size\n",
    "num_reviews = tweets[\"text\"].size\n",
    "\n",
    "# Initialize an empty list to hold the clean reviews\n",
    "clean_train_reviews = []\n",
    "\n",
    "# Loop over each review; create an index i that goes from 0 to the length\n",
    "# of the movie review list \n",
    "for i in xrange( 0, num_reviews ):\n",
    "    # Call our function for each one, and add the result to the list of\n",
    "    # clean reviews\n",
    "    clean_train_reviews.append( review_to_words( tweets[\"text\"][i] ) )"
   ]
  },
  {
   "cell_type": "markdown",
   "metadata": {},
   "source": [
    "Using the feature_extraction module from scikit-learn to create bag-of-words features."
   ]
  },
  {
   "cell_type": "code",
   "execution_count": 18,
   "metadata": {
    "collapsed": true
   },
   "outputs": [],
   "source": [
    "# Initialize the \"CountVectorizer\" object, which is scikit-learn's\n",
    "# bag of words tool.  \n",
    "vectorizer = CountVectorizer(analyzer = \"word\",   \\\n",
    "                             tokenizer = None,    \\\n",
    "                             preprocessor = None, \\\n",
    "                             stop_words = None,   \\\n",
    "                             max_features = 5000) \n",
    "\n",
    "# fit_transform() does two functions: First, it fits the model\n",
    "# and learns the vocabulary; second, it transforms our training data\n",
    "# into feature vectors. The input to fit_transform should be a list of \n",
    "# strings.\n",
    "train_data_features = vectorizer.fit_transform(clean_train_reviews)\n",
    "\n",
    "# Numpy arrays are easy to work with, so convert the result to an \n",
    "# array\n",
    "train_data_features = train_data_features.toarray()"
   ]
  },
  {
   "cell_type": "markdown",
   "metadata": {},
   "source": [
    "Show see what the training data array now looks like"
   ]
  },
  {
   "cell_type": "code",
   "execution_count": 19,
   "metadata": {
    "collapsed": false
   },
   "outputs": [
    {
     "name": "stdout",
     "output_type": "stream",
     "text": [
      "(269, 911)\n"
     ]
    }
   ],
   "source": [
    "print train_data_features.shape"
   ]
  },
  {
   "cell_type": "markdown",
   "metadata": {},
   "source": [
    "Take a look at the words in the vocabulary"
   ]
  },
  {
   "cell_type": "code",
   "execution_count": 20,
   "metadata": {
    "collapsed": false
   },
   "outputs": [
    {
     "name": "stdout",
     "output_type": "stream",
     "text": [
      "[u'acc', u'access', u'account', u'acikmimie', u'ad', u'ada', u'adakah', u'adammatsaja', u'ade', u'adjustment', u'administration', u'aduhai', u'aggressively', u'agree', u'agus', u'ahmad', u'ahmadhisan', u'aida', u'air', u'aku', u'ala', u'ale', u'always', u'amanah', u'ambank', u'ambil', u'amboi', u'ami', u'aminn', u'among', u'amp', u'analis', u'anyway', u'ao', u'apa', u'apakah', u'app', u'apply', u'apprentice', u'apr', u'area', u'arrangement', u'asb', u'aseanite', u'ashravvv', u'asia', u'assists', u'atirahzaharudie', u'atm', u'attended', u'auto', u'ava', u'aviva', u'azhar', u'azizulawang', u'azuana', u'baca', u'bag', u'bagi', u'bagian', u'bagus', u'bahru', u'baik', u'baju', u'bakal', u'balik', u'balimarathon', u'bamsbpee', u'bangla', u'bangunan', u'bank', u'bankbtncoid', u'banking', u'bankmegaid', u'bankrakyat', u'banks', u'banten', u'barang', u'baru', u'bas', u'basa', u'batu', u'bayar', u'bca', u'bdx', u'beautiful', u'bebas', u'bebudak', u'beli', u'belum', u'berapa', u'berhad', u'besar', u'best', u'bestie', u'betul', u'bgus', u'bharu', u'biasa', u'bila', u'bintang', u'bisa', u'bkifwqqc', u'bkn', u'blessed', u'blm', u'block', u'blog', u'bni', u'bnk', u'bo', u'board', u'bod', u'boh', u'boleh', u'bonus', u'book', u'booking', u'border', u'boss', u'bqx', u'branch', u'brb', u'bri', u'bridalshowerprops', u'briefing', u'brp', u'bs', u'bsa', u'bsim', u'bsn', u'btcktpz', u'btn', u'buat', u'buka', u'bukak', u'bukit', u'buloh', u'buntar', u'bur', u'burger', u'bys', u'bywjllnlcm', u'cab', u'caj', u'cakap', u'call', u'camna', u'cancel', u'cantik', u'card', u'cari', u'carilah', u'cash', u'caves', u'cc', u'cek', u'cello', u'cerita', u'charges', u'charlieangel', u'chat', u'check', u'checker', u'cheq', u'chiling', u'ci', u'cimb', u'cimbniaga', u'cina', u'ckp', u'click', u'clicks', u'cmeygd', u'co', u'cognuxm', u'collection', u'comes', u'commerce', u'company', u'conference', u'control', u'corporations', u'cuk', u'cycling', u'cyrswethex', u'czjkhwowta', u'dah', u'dalam', u'damn', u'dan', u'dari', u'dataran', u'daxmuhamad', u'days', u'db', u'dczsl', u'debit', u'decor', u'degree', u'dekat', u'dengan', u'deosy', u'depan', u'deposits', u'design', u'desktop', u'development', u'dgclarpmui', u'dgn', u'dh', u'di', u'dia', u'diam', u'dibayar', u'digi', u'diluluskan', u'ditolak', u'dkt', u'dlm', u'dlu', u'dok', u'dorpernad', u'dpgbk', u'dpn', u'dpt', u'dtg', u'dua', u'dualar', u'duit', u'duta', u'dxy', u'eanishak', u'earlybird', u'easter', u'easzrolasyralph', u'eco', u'ed', u'eh', u'eiajzfxw', u'eizam', u'ejas', u'ejgt', u'ekne', u'emchonggg', u'employment', u'en', u'end', u'enjoy', u'enrich', u'entering', u'enterprise', u'error', u'erti', u'especially', u'etc', u'eva', u'ewyvnbqjcc', u'ex', u'expect', u'facilities', u'fast', u'fazleeeeena', u'fb', u'fc', u'feedtheneedy', u'feeling', u'fgo', u'field', u'finance', u'financing', u'first', u'fjbkaskus', u'follow', u'food', u'fr', u'frame', u'free', u'frm', u'fw', u'gak', u'geng', u'gergasi', u'gk', u'glcs', u'global', u'gojekindonesia', u'good', u'governance', u'gratis', u'group', u'growing', u'gsc', u'guna', u'ha', u'hadapan', u'hadiah', u'haha', u'hahaha', u'hahahaha', u'hahahhaha', u'hahha', u'hai', u'halo', u'hampa', u'hani', u'happen', u'happy', u'hareyyyy', u'harga', u'hari', u'hat', u'hati', u'hatrik', u'held', u'hg', u'hi', u'high', u'hills', u'himpuh', u'hk', u'hlib', u'home', u'hong', u'hongleong', u'hope', u'hotel', u'house', u'housle', u'hpjc', u'hq', u'hrs', u'hsbc', u'https', u'huhu', u'huhuhu', u'hurairah', u'hwbnkbxnew', u'hzainudin', u'ian', u'ibu', u'ic', u'ichmt', u'id', u'ii', u'image', u'indahpura', u'india', u'indonesia', u'ingat', u'ini', u'initiatives', u'inmeaak', u'interior', u'interiordesign', u'internal', u'internation', u'internet', u'internship', u'inv', u'investing', u'investment', u'io', u'ircs', u'irwan', u'ismail', u'isnin', u'iuran', u'izstw', u'izyannizam', u'ja', u'jakarta', u'jako', u'jalan', u'jalin', u'jam', u'jantung', u'japfa', u'jaya', u'jbrmalam', u'jd', u'je', u'jgdl', u'jgn', u'jin', u'jmlh', u'jmpa', u'jo', u'jodoh', u'johor', u'jom', u'jp', u'jpj', u'jual', u'jumaat', u'juta', u'jwgqqw', u'kad', u'kah', u'kai', u'kalau', u'kali', u'kamu', u'kan', u'kangaq', u'kannnn', u'kapely', u'kartu', u'kasih', u'kaskusjualbeli', u'kat', u'kata', u'katanya', u'kaunter', u'kaut', u'kaya', u'kcsepobj', u'kdy', u'ke', u'kedah', u'kelantan', u'kembar', u'kena', u'kenapa', u'kenape', u'kene', u'kentut', u'ker', u'kerja', u'kewangangraduan', u'kfbybbf', u'khairykj', u'khamis', u'kinabalu', u'kira', u'kite', u'klarinet', u'klaten', u'klcc', u'klidn', u'ko', u'kode', u'komplen', u'kopi', u'korang', u'koroi', u'kos', u'kosong', u'kot', u'kota', u'kovci', u'kpop', u'kredit', u'kszfmkr', u'kt', u'kuala', u'kubu', u'kuchai', u'kuching', u'kulai', u'kutu', u'kwsp', u'kzl', u'la', u'lah', u'lain', u'lalu', u'lama', u'langit', u'lata', u'lax', u'lebih', u'leong', u'lepas', u'less', u'level', u'lewat', u'lhyfdx', u'life', u'like', u'limit', u'live', u'lku', u'lol', u'looking', u'lovefitness', u'lovka', u'lowongan', u'lupa', u'luuuu', u'lz', u'maaf', u'maintains', u'makan', u'makasih', u'makau', u'maksud', u'malam', u'malayan', u'malaysia', u'malaysian', u'malaysianfoodie', u'mana', u'manager', u'mandiri', u'masalah', u'masih', u'master', u'mat', u'mau', u'maximal', u'mayallaheaseeverything', u'maybank', u'mcm', u'meatball', u'meatballs', u'medan', u'medium', u'melaka', u'melakukan', u'melalui', u'melayu', u'menara', u'mengajukan', u'mengendap', u'menghadap', u'mertajam', u'mhydn', u'mi', u'min', u'minimum', u'minta', u'missanneain', u'mnou', u'mobile', u'modal', u'mohd', u'month', u'movie', u'msv', u'muamalat', u'mula', u'musela', u'mydin', u'mymaybank', u'na', u'naa', u'nad', u'nadzmynazly', u'nah', u'najlathira', u'nak', u'nama', u'nanti', u'nap', u'nasabah', u'near', u'need', u'nesnasimlidi', u'neutral', u'next', u'ni', u'niaga', u'nie', u'nizc', u'njlwpzufpf', u'nk', u'nmpak', u'nnt', u'non', u'noor', u'norlywawa', u'notification', u'nube', u'nuxz', u'nya', u'nye', u'nyintan', u'ocbc', u'officer', u'officials', u'ogeday', u'oh', u'ohevmqyj', u'ol', u'olina', u'online', u'opinion', u'opportunities', u'option', u'orang', u'orangers', u'orangetv', u'order', u'org', u'ostatn', u'outreach', u'padahal', u'page', u'pahat', u'pake', u'paling', u'panjang', u'pape', u'parit', u'pas', u'payment', u'pbb', u'pdfzipxpr', u'pdu', u'pegawai', u'pekerja', u'pembayaran', u'pembedahan', u'pengguna', u'perasaan', u'pergi', u'peribadi', u'permata', u'permohonan', u'pesan', u'petaling', u'petani', u'pi', u'pian', u'pic', u'pictures', u'pinang', u'pine', u'pinjaman', u'pls', u'pnah', u'pnya', u'poblem', u'point', u'poker', u'pon', u'posisi', u'posl', u'pot', u'pown', u'prefer', u'price', u'prnah', u'problem', u'programme', u'promo', u'prost', u'pt', u'puas', u'public', u'pujian', u'pukul', u'pulak', u'pulau', u'pun', u'purchase', u'putih', u'pvu', u'qb', u'qhwagvu', u'qjz', u'qlgraielxu', u'qn', u'qqtivzut', u'qywv', u'rabu', u'rahsiakan', u'raja', u'ramai', u'rasa', u'rb', u'read', u'really', u'refer', u'register', u'relationship', u'reload', u'remember', u'reply', u'rermqpgz', u'resea', u'research', u'rhb', u'rhrgzosqa', u'rih', u'rm', u'rnl', u'room', u'roundbout', u'rp', u'rruefxdade', u'rsd', u'rt', u'rtl', u'sabah', u'sahaja', u'salah', u'saldo', u'sales', u'sama', u'sambung', u'sampai', u'sanggup', u'sarawak', u'sat', u'satgi', u'saver', u'saving', u'saya', u'sdh', u'se', u'sebab', u'sebegitu', u'sebulan', u'sector', u'sedangkan', u'sees', u'sehari', u'seiras', u'sek', u'sekali', u'sekarang', u'selama', u'selamanya', u'selangor', u'semalem', u'semangkok', u'semoga', u'semua', u'senawang', u'sendiri', u'seq', u'seriously', u'servis', u'session', u'setelah', u'severini', u'sginvestors', u'sgp', u'shahrul', u'shimaa', u'shuzairine', u'si', u'siang', u'siapa', u'significant', u'simpan', u'sinarmas', u'since', u'singapore', u'sitting', u'situ', u'skrg', u'skype', u'small', u'sme', u'smj', u'sms', u'sofia', u'sorang', u'sp', u'special', u'sponsor', u'sponsors', u'sports', u'ss', u'staff', u'staffs', u'stage', u'starhill', u'statusnya', u'still', u'stock', u'stroje', u'suit', u'sukan', u'sukses', u'sultan', u'sumbangan', u'sungai', u'sunlife', u'suruh', u'sy', u'syamiera', u'syarat', u'syariah', u'syarkat', u'tac', u'tah', u'tahu', u'tahunan', u'tak', u'takde', u'tambahan', u'tampa', u'tangerang', u'tanggerang', u'tanpa', u'tanya', u'tapi', u'target', u'tau', u'tbk', u'tea', u'team', u'tekanan', u'telepon', u'telp', u'tempoh', u'tengok', u'terbalik', u'teri', u'terima', u'term', u'tersedia', u'tertunggak', u'terus', u'tgv', u'th', u'thanks', u'thanms', u'thn', u'tiada', u'ticket', u'tiket', u'time', u'tjwbufc', u'tkde', u'tkh', u'tknd', u'tl', u'tmpt', u'tmqs', u'tny', u'today', u'tokopediacaredear', u'tol', u'tolak', u'tolong', u'tomang', u'top', u'topupkan', u'toxgg', u'tp', u'tq', u'traders', u'transactions', u'transfer', u'transferred', u'tree', u'trus', u'tryck', u'ttmteusom', u'tu', u'tuu', u'ubfhtpupx', u'ucdchg', u'ud', u'ulu', u'untuk', u'updated', u'upgrade', u'ur', u'us', u'usahaniaga', u'use', u'utc', u'utk', u'uwuvevwe', u'valid', u'via', u'vybav', u'vzqkocyf', u'wahh', u'walk', u'wan', u'wardabah', u'waseee', u'wdkmqo', u'weekend', u'wei', u'werkkkkkk', u'westport', u'whenever', u'wishes', u'wit', u'withdrawals', u'woiiiiii', u'xboleh', u'xkf', u'xper', u'xpyh', u'xreti', u'xvii', u'ya', u'yang', u'yblotiavsg', u'ydq', u'yen', u'yg', u'ymbmsdj', u'yogyakarta', u'yummyformytummy', u'yxuom', u'zaidatulmohd', u'zf', u'zqtnzod', u'zseninle', u'ztfbvtllj', u'zx']\n"
     ]
    }
   ],
   "source": [
    "vocab = vectorizer.get_feature_names()\n",
    "print vocab"
   ]
  },
  {
   "cell_type": "markdown",
   "metadata": {},
   "source": [
    "Print the counts of each word in the vocabulary"
   ]
  },
  {
   "cell_type": "code",
   "execution_count": 21,
   "metadata": {
    "collapsed": false
   },
   "outputs": [
    {
     "name": "stdout",
     "output_type": "stream",
     "text": [
      "35 acc\n",
      "1 access\n",
      "3 account\n",
      "1 acikmimie\n",
      "2 ad\n",
      "9 ada\n",
      "2 adakah\n",
      "1 adammatsaja\n",
      "1 ade\n",
      "1 adjustment\n",
      "1 administration\n",
      "1 aduhai\n",
      "1 aggressively\n",
      "1 agree\n",
      "1 agus\n",
      "1 ahmad\n",
      "1 ahmadhisan\n",
      "2 aida\n",
      "1 air\n",
      "19 aku\n",
      "1 ala\n",
      "1 ale\n",
      "1 always\n",
      "1 amanah\n",
      "2 ambank\n",
      "1 ambil\n",
      "4 amboi\n",
      "2 ami\n",
      "1 aminn\n",
      "1 among\n",
      "7 amp\n",
      "1 analis\n",
      "1 anyway\n",
      "1 ao\n",
      "2 apa\n",
      "1 apakah\n",
      "5 app\n",
      "4 apply\n",
      "1 apprentice\n",
      "1 apr\n",
      "3 area\n",
      "1 arrangement\n",
      "2 asb\n",
      "1 aseanite\n",
      "1 ashravvv\n",
      "1 asia\n",
      "1 assists\n",
      "1 atirahzaharudie\n",
      "6 atm\n",
      "1 attended\n",
      "1 auto\n",
      "1 ava\n",
      "1 aviva\n",
      "1 azhar\n",
      "2 azizulawang\n",
      "29 azuana\n",
      "1 baca\n",
      "1 bag\n",
      "1 bagi\n",
      "1 bagian\n",
      "2 bagus\n",
      "1 bahru\n",
      "2 baik\n",
      "1 baju\n",
      "1 bakal\n",
      "1 balik\n",
      "1 balimarathon\n",
      "1 bamsbpee\n",
      "1 bangla\n",
      "2 bangunan\n",
      "43 bank\n",
      "1 bankbtncoid\n",
      "5 banking\n",
      "1 bankmegaid\n",
      "1 bankrakyat\n",
      "1 banks\n",
      "1 banten\n",
      "2 barang\n",
      "1 baru\n",
      "1 bas\n",
      "1 basa\n",
      "2 batu\n",
      "3 bayar\n",
      "16 bca\n",
      "1 bdx\n",
      "1 beautiful\n",
      "1 bebas\n",
      "1 bebudak\n",
      "2 beli\n",
      "1 belum\n",
      "2 berapa\n",
      "1 berhad\n",
      "2 besar\n",
      "3 best\n",
      "1 bestie\n",
      "2 betul\n",
      "1 bgus\n",
      "2 bharu\n",
      "2 biasa\n",
      "2 bila\n",
      "1 bintang\n",
      "5 bisa\n",
      "1 bkifwqqc\n",
      "1 bkn\n",
      "1 blessed\n",
      "1 blm\n",
      "1 block\n",
      "2 blog\n",
      "16 bni\n",
      "1 bnk\n",
      "1 bo\n",
      "3 board\n",
      "1 bod\n",
      "1 boh\n",
      "9 boleh\n",
      "1 bonus\n",
      "1 book\n",
      "2 booking\n",
      "1 border\n",
      "1 boss\n",
      "1 bqx\n",
      "2 branch\n",
      "1 brb\n",
      "18 bri\n",
      "1 bridalshowerprops\n",
      "1 briefing\n",
      "1 brp\n",
      "1 bs\n",
      "1 bsa\n",
      "1 bsim\n",
      "1 bsn\n",
      "1 btcktpz\n",
      "14 btn\n",
      "9 buat\n",
      "2 buka\n",
      "1 bukak\n",
      "1 bukit\n",
      "2 buloh\n",
      "1 buntar\n",
      "1 bur\n",
      "1 burger\n",
      "1 bys\n",
      "2 bywjllnlcm\n",
      "1 cab\n",
      "2 caj\n",
      "1 cakap\n",
      "2 call\n",
      "1 camna\n",
      "1 cancel\n",
      "1 cantik\n",
      "2 card\n",
      "1 cari\n",
      "1 carilah\n",
      "2 cash\n",
      "1 caves\n",
      "4 cc\n",
      "1 cek\n",
      "1 cello\n",
      "2 cerita\n",
      "1 charges\n",
      "1 charlieangel\n",
      "2 chat\n",
      "1 check\n",
      "1 checker\n",
      "1 cheq\n",
      "1 chiling\n",
      "1 ci\n",
      "88 cimb\n",
      "2 cimbniaga\n",
      "1 cina\n",
      "1 ckp\n",
      "4 click\n",
      "1 clicks\n",
      "1 cmeygd\n",
      "62 co\n",
      "1 cognuxm\n",
      "1 collection\n",
      "1 comes\n",
      "1 commerce\n",
      "1 company\n",
      "1 conference\n",
      "1 control\n",
      "101 corporations\n",
      "1 cuk\n",
      "2 cycling\n",
      "1 cyrswethex\n",
      "1 czjkhwowta\n",
      "3 dah\n",
      "2 dalam\n",
      "1 damn\n",
      "6 dan\n",
      "4 dari\n",
      "1 dataran\n",
      "4 daxmuhamad\n",
      "1 days\n",
      "1 db\n",
      "1 dczsl\n",
      "1 debit\n",
      "1 decor\n",
      "1 degree\n",
      "1 dekat\n",
      "3 dengan\n",
      "1 deosy\n",
      "1 depan\n",
      "1 deposits\n",
      "1 design\n",
      "5 desktop\n",
      "101 development\n",
      "1 dgclarpmui\n",
      "4 dgn\n",
      "2 dh\n",
      "2 di\n",
      "7 dia\n",
      "1 diam\n",
      "1 dibayar\n",
      "1 digi\n",
      "1 diluluskan\n",
      "1 ditolak\n",
      "2 dkt\n",
      "1 dlm\n",
      "1 dlu\n",
      "1 dok\n",
      "1 dorpernad\n",
      "1 dpgbk\n",
      "1 dpn\n",
      "3 dpt\n",
      "1 dtg\n",
      "1 dua\n",
      "1 dualar\n",
      "4 duit\n",
      "1 duta\n",
      "1 dxy\n",
      "1 eanishak\n",
      "1 earlybird\n",
      "1 easter\n",
      "1 easzrolasyralph\n",
      "1 eco\n",
      "1 ed\n",
      "1 eh\n",
      "1 eiajzfxw\n",
      "1 eizam\n",
      "1 ejas\n",
      "1 ejgt\n",
      "1 ekne\n",
      "6 emchonggg\n",
      "1 employment\n",
      "1 en\n",
      "1 end\n",
      "1 enjoy\n",
      "1 enrich\n",
      "101 entering\n",
      "1 enterprise\n",
      "1 error\n",
      "1 erti\n",
      "101 especially\n",
      "2 etc\n",
      "2 eva\n",
      "1 ewyvnbqjcc\n",
      "1 ex\n",
      "1 expect\n",
      "1 facilities\n",
      "1 fast\n",
      "1 fazleeeeena\n",
      "1 fb\n",
      "1 fc\n",
      "1 feedtheneedy\n",
      "2 feeling\n",
      "1 fgo\n",
      "1 field\n",
      "4 finance\n",
      "1 financing\n",
      "3 first\n",
      "2 fjbkaskus\n",
      "1 follow\n",
      "1 food\n",
      "2 fr\n",
      "101 frame\n",
      "5 free\n",
      "1 frm\n",
      "1 fw\n",
      "1 gak\n",
      "1 geng\n",
      "1 gergasi\n",
      "1 gk\n",
      "1 glcs\n",
      "1 global\n",
      "9 gojekindonesia\n",
      "1 good\n",
      "1 governance\n",
      "2 gratis\n",
      "1 group\n",
      "1 growing\n",
      "1 gsc\n",
      "8 guna\n",
      "1 ha\n",
      "1 hadapan\n",
      "1 hadiah\n",
      "2 haha\n",
      "4 hahaha\n",
      "1 hahahaha\n",
      "1 hahahhaha\n",
      "1 hahha\n",
      "14 hai\n",
      "1 halo\n",
      "1 hampa\n",
      "1 hani\n",
      "1 happen\n",
      "1 happy\n",
      "1 hareyyyy\n",
      "1 harga\n",
      "5 hari\n",
      "1 hat\n",
      "1 hati\n",
      "1 hatrik\n",
      "1 held\n",
      "2 hg\n",
      "1 hi\n",
      "1 high\n",
      "1 hills\n",
      "3 himpuh\n",
      "1 hk\n",
      "2 hlib\n",
      "1 home\n",
      "6 hong\n",
      "1 hongleong\n",
      "1 hope\n",
      "1 hotel\n",
      "1 house\n",
      "1 housle\n",
      "1 hpjc\n",
      "1 hq\n",
      "1 hrs\n",
      "7 hsbc\n",
      "59 https\n",
      "1 huhu\n",
      "1 huhuhu\n",
      "1 hurairah\n",
      "1 hwbnkbxnew\n",
      "1 hzainudin\n",
      "4 ian\n",
      "29 ibu\n",
      "1 ic\n",
      "1 ichmt\n",
      "1 id\n",
      "1 ii\n",
      "1 image\n",
      "1 indahpura\n",
      "1 india\n",
      "3 indonesia\n",
      "2 ingat\n",
      "1 ini\n",
      "1 initiatives\n",
      "1 inmeaak\n",
      "1 interior\n",
      "1 interiordesign\n",
      "1 internal\n",
      "1 internation\n",
      "2 internet\n",
      "1 internship\n",
      "1 inv\n",
      "101 investing\n",
      "2 investment\n",
      "1 io\n",
      "1 ircs\n",
      "1 irwan\n",
      "1 ismail\n",
      "5 isnin\n",
      "3 iuran\n",
      "1 izstw\n",
      "1 izyannizam\n",
      "1 ja\n",
      "2 jakarta\n",
      "1 jako\n",
      "1 jalan\n",
      "3 jalin\n",
      "1 jam\n",
      "29 jantung\n",
      "1 japfa\n",
      "2 jaya\n",
      "1 jbrmalam\n",
      "1 jd\n",
      "5 je\n",
      "1 jgdl\n",
      "1 jgn\n",
      "1 jin\n",
      "1 jmlh\n",
      "1 jmpa\n",
      "1 jo\n",
      "1 jodoh\n",
      "2 johor\n",
      "1 jom\n",
      "1 jp\n",
      "1 jpj\n",
      "2 jual\n",
      "5 jumaat\n",
      "1 juta\n",
      "1 jwgqqw\n",
      "4 kad\n",
      "1 kah\n",
      "2 kai\n",
      "1 kalau\n",
      "1 kali\n",
      "4 kamu\n",
      "1 kan\n",
      "2 kangaq\n",
      "1 kannnn\n",
      "1 kapely\n",
      "4 kartu\n",
      "4 kasih\n",
      "2 kaskusjualbeli\n",
      "3 kat\n",
      "1 kata\n",
      "1 katanya\n",
      "2 kaunter\n",
      "1 kaut\n",
      "1 kaya\n",
      "1 kcsepobj\n",
      "1 kdy\n",
      "37 ke\n",
      "1 kedah\n",
      "1 kelantan\n",
      "1 kembar\n",
      "1 kena\n",
      "3 kenapa\n",
      "1 kenape\n",
      "1 kene\n",
      "1 kentut\n",
      "1 ker\n",
      "10 kerja\n",
      "7 kewangangraduan\n",
      "1 kfbybbf\n",
      "101 khairykj\n",
      "5 khamis\n",
      "1 kinabalu\n",
      "1 kira\n",
      "1 kite\n",
      "1 klarinet\n",
      "1 klaten\n",
      "2 klcc\n",
      "1 klidn\n",
      "2 ko\n",
      "2 kode\n",
      "1 komplen\n",
      "1 kopi\n",
      "1 korang\n",
      "1 koroi\n",
      "29 kos\n",
      "1 kosong\n",
      "2 kot\n",
      "2 kota\n",
      "1 kovci\n",
      "1 kpop\n",
      "5 kredit\n",
      "1 kszfmkr\n",
      "2 kt\n",
      "1 kuala\n",
      "1 kubu\n",
      "1 kuchai\n",
      "1 kuching\n",
      "2 kulai\n",
      "1 kutu\n",
      "2 kwsp\n",
      "1 kzl\n",
      "4 la\n",
      "4 lah\n",
      "7 lain\n",
      "1 lalu\n",
      "2 lama\n",
      "1 langit\n",
      "1 lata\n",
      "1 lax\n",
      "1 lebih\n",
      "6 leong\n",
      "2 lepas\n",
      "1 less\n",
      "101 level\n",
      "1 lewat\n",
      "1 lhyfdx\n",
      "3 life\n",
      "2 like\n",
      "1 limit\n",
      "1 live\n",
      "1 lku\n",
      "1 lol\n",
      "1 looking\n",
      "1 lovefitness\n",
      "1 lovka\n",
      "6 lowongan\n",
      "1 lupa\n",
      "1 luuuu\n",
      "1 lz\n",
      "1 maaf\n",
      "1 maintains\n",
      "1 makan\n",
      "1 makasih\n",
      "1 makau\n",
      "1 maksud\n",
      "3 malam\n",
      "1 malayan\n",
      "1 malaysia\n",
      "1 malaysian\n",
      "1 malaysianfoodie\n",
      "2 mana\n",
      "1 manager\n",
      "15 mandiri\n",
      "1 masalah\n",
      "1 masih\n",
      "1 master\n",
      "1 mat\n",
      "3 mau\n",
      "1 maximal\n",
      "1 mayallaheaseeverything\n",
      "85 maybank\n",
      "3 mcm\n",
      "1 meatball\n",
      "1 meatballs\n",
      "1 medan\n",
      "1 medium\n",
      "1 melaka\n",
      "2 melakukan\n",
      "2 melalui\n",
      "1 melayu\n",
      "2 menara\n",
      "1 mengajukan\n",
      "1 mengendap\n",
      "1 menghadap\n",
      "1 mertajam\n",
      "2 mhydn\n",
      "1 mi\n",
      "2 min\n",
      "14 minimum\n",
      "1 minta\n",
      "1 missanneain\n",
      "1 mnou\n",
      "4 mobile\n",
      "1 modal\n",
      "29 mohd\n",
      "1 month\n",
      "1 movie\n",
      "1 msv\n",
      "1 muamalat\n",
      "1 mula\n",
      "1 musela\n",
      "1 mydin\n",
      "3 mymaybank\n",
      "1 na\n",
      "1 naa\n",
      "3 nad\n",
      "1 nadzmynazly\n",
      "1 nah\n",
      "1 najlathira\n",
      "7 nak\n",
      "1 nama\n",
      "1 nanti\n",
      "1 nap\n",
      "1 nasabah\n",
      "1 near\n",
      "101 need\n",
      "1 nesnasimlidi\n",
      "1 neutral\n",
      "1 next\n",
      "7 ni\n",
      "26 niaga\n",
      "1 nie\n",
      "1 nizc\n",
      "1 njlwpzufpf\n",
      "4 nk\n",
      "1 nmpak\n",
      "1 nnt\n",
      "1 non\n",
      "6 noor\n",
      "1 norlywawa\n",
      "1 notification\n",
      "1 nube\n",
      "1 nuxz\n",
      "2 nya\n",
      "1 nye\n",
      "29 nyintan\n",
      "3 ocbc\n",
      "2 officer\n",
      "1 officials\n",
      "1 ogeday\n",
      "1 oh\n",
      "1 ohevmqyj\n",
      "1 ol\n",
      "1 olina\n",
      "2 online\n",
      "1 opinion\n",
      "1 opportunities\n",
      "1 option\n",
      "1 orang\n",
      "2 orangers\n",
      "2 orangetv\n",
      "2 order\n",
      "1 org\n",
      "1 ostatn\n",
      "1 outreach\n",
      "1 padahal\n",
      "1 page\n",
      "1 pahat\n",
      "1 pake\n",
      "1 paling\n",
      "1 panjang\n",
      "1 pape\n",
      "2 parit\n",
      "1 pas\n",
      "1 payment\n",
      "1 pbb\n",
      "1 pdfzipxpr\n",
      "1 pdu\n",
      "1 pegawai\n",
      "1 pekerja\n",
      "3 pembayaran\n",
      "29 pembedahan\n",
      "1 pengguna\n",
      "1 perasaan\n",
      "2 pergi\n",
      "1 peribadi\n",
      "15 permata\n",
      "2 permohonan\n",
      "2 pesan\n",
      "2 petaling\n",
      "1 petani\n",
      "1 pi\n",
      "1 pian\n",
      "1 pic\n",
      "1 pictures\n",
      "2 pinang\n",
      "1 pine\n",
      "1 pinjaman\n",
      "29 pls\n",
      "1 pnah\n",
      "2 pnya\n",
      "1 poblem\n",
      "1 point\n",
      "1 poker\n",
      "2 pon\n",
      "6 posisi\n",
      "1 posl\n",
      "1 pot\n",
      "1 pown\n",
      "1 prefer\n",
      "2 price\n",
      "2 prnah\n",
      "2 problem\n",
      "1 programme\n",
      "1 promo\n",
      "1 prost\n",
      "6 pt\n",
      "1 puas\n",
      "2 public\n",
      "1 pujian\n",
      "1 pukul\n",
      "1 pulak\n",
      "1 pulau\n",
      "1 pun\n",
      "1 purchase\n",
      "1 putih\n",
      "1 pvu\n",
      "1 qb\n",
      "1 qhwagvu\n",
      "1 qjz\n",
      "1 qlgraielxu\n",
      "1 qn\n",
      "1 qqtivzut\n",
      "1 qywv\n",
      "5 rabu\n",
      "1 rahsiakan\n",
      "1 raja\n",
      "1 ramai\n",
      "1 rasa\n",
      "2 rb\n",
      "1 read\n",
      "1 really\n",
      "2 refer\n",
      "1 register\n",
      "1 relationship\n",
      "1 reload\n",
      "1 remember\n",
      "1 reply\n",
      "1 rermqpgz\n",
      "1 resea\n",
      "1 research\n",
      "5 rhb\n",
      "1 rhrgzosqa\n",
      "1 rih\n",
      "6 rm\n",
      "1 rnl\n",
      "1 room\n",
      "1 roundbout\n",
      "14 rp\n",
      "1 rruefxdade\n",
      "1 rsd\n",
      "183 rt\n",
      "1 rtl\n",
      "1 sabah\n",
      "1 sahaja\n",
      "1 salah\n",
      "4 saldo\n",
      "1 sales\n",
      "3 sama\n",
      "1 sambung\n",
      "3 sampai\n",
      "1 sanggup\n",
      "1 sarawak\n",
      "1 sat\n",
      "1 satgi\n",
      "1 saver\n",
      "1 saving\n",
      "5 saya\n",
      "1 sdh\n",
      "2 se\n",
      "1 sebab\n",
      "1 sebegitu\n",
      "1 sebulan\n",
      "1 sector\n",
      "1 sedangkan\n",
      "1 sees\n",
      "1 sehari\n",
      "1 seiras\n",
      "1 sek\n",
      "1 sekali\n",
      "1 sekarang\n",
      "1 selama\n",
      "3 selamanya\n",
      "5 selangor\n",
      "1 semalem\n",
      "1 semangkok\n",
      "2 semoga\n",
      "2 semua\n",
      "1 senawang\n",
      "1 sendiri\n",
      "1 seq\n",
      "1 seriously\n",
      "1 servis\n",
      "1 session\n",
      "2 setelah\n",
      "1 severini\n",
      "1 sginvestors\n",
      "1 sgp\n",
      "1 shahrul\n",
      "1 shimaa\n",
      "6 shuzairine\n",
      "1 si\n",
      "1 siang\n",
      "1 siapa\n",
      "1 significant\n",
      "1 simpan\n",
      "1 sinarmas\n",
      "1 since\n",
      "1 singapore\n",
      "1 sitting\n",
      "1 situ\n",
      "2 skrg\n",
      "1 skype\n",
      "1 small\n",
      "1 sme\n",
      "2 smj\n",
      "1 sms\n",
      "29 sofia\n",
      "1 sorang\n",
      "1 sp\n",
      "1 special\n",
      "6 sponsor\n",
      "1 sponsors\n",
      "102 sports\n",
      "1 ss\n",
      "2 staff\n",
      "1 staffs\n",
      "1 stage\n",
      "1 starhill\n",
      "1 statusnya\n",
      "1 still\n",
      "1 stock\n",
      "1 stroje\n",
      "1 suit\n",
      "4 sukan\n",
      "1 sukses\n",
      "1 sultan\n",
      "29 sumbangan\n",
      "5 sungai\n",
      "1 sunlife\n",
      "2 suruh\n",
      "5 sy\n",
      "6 syamiera\n",
      "3 syarat\n",
      "5 syariah\n",
      "1 syarkat\n",
      "1 tac\n",
      "1 tah\n",
      "2 tahu\n",
      "1 tahunan\n",
      "6 tak\n",
      "1 takde\n",
      "1 tambahan\n",
      "1 tampa\n",
      "1 tangerang\n",
      "1 tanggerang\n",
      "2 tanpa\n",
      "1 tanya\n",
      "5 tapi\n",
      "1 target\n",
      "1 tau\n",
      "2 tbk\n",
      "2 tea\n",
      "1 team\n",
      "1 tekanan\n",
      "1 telepon\n",
      "1 telp\n",
      "1 tempoh\n",
      "2 tengok\n",
      "1 terbalik\n",
      "8 teri\n",
      "4 terima\n",
      "1 term\n",
      "2 tersedia\n",
      "1 tertunggak\n",
      "1 terus\n",
      "1 tgv\n",
      "1 th\n",
      "2 thanks\n",
      "1 thanms\n",
      "1 thn\n",
      "1 tiada\n",
      "1 ticket\n",
      "1 tiket\n",
      "2 time\n",
      "1 tjwbufc\n",
      "1 tkde\n",
      "1 tkh\n",
      "1 tknd\n",
      "1 tl\n",
      "1 tmpt\n",
      "1 tmqs\n",
      "1 tny\n",
      "1 today\n",
      "1 tokopediacaredear\n",
      "1 tol\n",
      "1 tolak\n",
      "2 tolong\n",
      "1 tomang\n",
      "16 top\n",
      "1 topupkan\n",
      "1 toxgg\n",
      "1 tp\n",
      "7 tq\n",
      "1 traders\n",
      "1 transactions\n",
      "4 transfer\n",
      "1 transferred\n",
      "1 tree\n",
      "29 trus\n",
      "1 tryck\n",
      "1 ttmteusom\n",
      "8 tu\n",
      "1 tuu\n",
      "1 ubfhtpupx\n",
      "1 ucdchg\n",
      "1 ud\n",
      "1 ulu\n",
      "14 untuk\n",
      "1 updated\n",
      "1 upgrade\n",
      "1 ur\n",
      "1 us\n",
      "1 usahaniaga\n",
      "1 use\n",
      "1 utc\n",
      "31 utk\n",
      "13 uwuvevwe\n",
      "1 valid\n",
      "4 via\n",
      "1 vybav\n",
      "2 vzqkocyf\n",
      "1 wahh\n",
      "1 walk\n",
      "1 wan\n",
      "1 wardabah\n",
      "1 waseee\n",
      "1 wdkmqo\n",
      "2 weekend\n",
      "1 wei\n",
      "1 werkkkkkk\n",
      "1 westport\n",
      "1 whenever\n",
      "1 wishes\n",
      "1 wit\n",
      "1 withdrawals\n",
      "1 woiiiiii\n",
      "1 xboleh\n",
      "1 xkf\n",
      "1 xper\n",
      "1 xpyh\n",
      "2 xreti\n",
      "1 xvii\n",
      "17 ya\n",
      "3 yang\n",
      "1 yblotiavsg\n",
      "1 ydq\n",
      "1 yen\n",
      "7 yg\n",
      "1 ymbmsdj\n",
      "1 yogyakarta\n",
      "1 yummyformytummy\n",
      "1 yxuom\n",
      "1 zaidatulmohd\n",
      "1 zf\n",
      "1 zqtnzod\n",
      "1 zseninle\n",
      "1 ztfbvtllj\n",
      "1 zx\n"
     ]
    }
   ],
   "source": [
    "# Sum up the counts of each vocabulary word\n",
    "dist = np.sum(train_data_features, axis=0)\n",
    "\n",
    "# For each, print the vocabulary word and the number of times it \n",
    "# appears in the training set\n",
    "for tag, count in zip(vocab, dist):\n",
    "    print count, tag"
   ]
  },
  {
   "cell_type": "markdown",
   "metadata": {},
   "source": [
    "Use the Random Forest classifier"
   ]
  },
  {
   "cell_type": "code",
   "execution_count": 23,
   "metadata": {
    "collapsed": false
   },
   "outputs": [
    {
     "name": "stdout",
     "output_type": "stream",
     "text": [
      "Training the random forest...\n"
     ]
    },
    {
     "ename": "KeyError",
     "evalue": "'sentiment'",
     "output_type": "error",
     "traceback": [
      "\u001b[0;31m---------------------------------------------------------------------------\u001b[0m",
      "\u001b[0;31mKeyError\u001b[0m                                  Traceback (most recent call last)",
      "\u001b[0;32m<ipython-input-23-0c50f93c51c0>\u001b[0m in \u001b[0;36m<module>\u001b[0;34m()\u001b[0m\n\u001b[1;32m      9\u001b[0m \u001b[0;31m#\u001b[0m\u001b[0;34m\u001b[0m\u001b[0;34m\u001b[0m\u001b[0m\n\u001b[1;32m     10\u001b[0m \u001b[0;31m# This may take a few minutes to run\u001b[0m\u001b[0;34m\u001b[0m\u001b[0;34m\u001b[0m\u001b[0m\n\u001b[0;32m---> 11\u001b[0;31m \u001b[0mforest\u001b[0m \u001b[0;34m=\u001b[0m \u001b[0mforest\u001b[0m\u001b[0;34m.\u001b[0m\u001b[0mfit\u001b[0m\u001b[0;34m(\u001b[0m \u001b[0mtrain_data_features\u001b[0m\u001b[0;34m,\u001b[0m \u001b[0mtweets\u001b[0m\u001b[0;34m[\u001b[0m\u001b[0;34m\"sentiment\"\u001b[0m\u001b[0;34m]\u001b[0m \u001b[0;34m)\u001b[0m\u001b[0;34m\u001b[0m\u001b[0m\n\u001b[0m",
      "\u001b[0;32m/usr/local/lib/python2.7/site-packages/pandas/core/frame.pyc\u001b[0m in \u001b[0;36m__getitem__\u001b[0;34m(self, key)\u001b[0m\n\u001b[1;32m   1912\u001b[0m             \u001b[0;32mreturn\u001b[0m \u001b[0mself\u001b[0m\u001b[0;34m.\u001b[0m\u001b[0m_getitem_multilevel\u001b[0m\u001b[0;34m(\u001b[0m\u001b[0mkey\u001b[0m\u001b[0;34m)\u001b[0m\u001b[0;34m\u001b[0m\u001b[0m\n\u001b[1;32m   1913\u001b[0m         \u001b[0;32melse\u001b[0m\u001b[0;34m:\u001b[0m\u001b[0;34m\u001b[0m\u001b[0m\n\u001b[0;32m-> 1914\u001b[0;31m             \u001b[0;32mreturn\u001b[0m \u001b[0mself\u001b[0m\u001b[0;34m.\u001b[0m\u001b[0m_getitem_column\u001b[0m\u001b[0;34m(\u001b[0m\u001b[0mkey\u001b[0m\u001b[0;34m)\u001b[0m\u001b[0;34m\u001b[0m\u001b[0m\n\u001b[0m\u001b[1;32m   1915\u001b[0m \u001b[0;34m\u001b[0m\u001b[0m\n\u001b[1;32m   1916\u001b[0m     \u001b[0;32mdef\u001b[0m \u001b[0m_getitem_column\u001b[0m\u001b[0;34m(\u001b[0m\u001b[0mself\u001b[0m\u001b[0;34m,\u001b[0m \u001b[0mkey\u001b[0m\u001b[0;34m)\u001b[0m\u001b[0;34m:\u001b[0m\u001b[0;34m\u001b[0m\u001b[0m\n",
      "\u001b[0;32m/usr/local/lib/python2.7/site-packages/pandas/core/frame.pyc\u001b[0m in \u001b[0;36m_getitem_column\u001b[0;34m(self, key)\u001b[0m\n\u001b[1;32m   1919\u001b[0m         \u001b[0;31m# get column\u001b[0m\u001b[0;34m\u001b[0m\u001b[0;34m\u001b[0m\u001b[0m\n\u001b[1;32m   1920\u001b[0m         \u001b[0;32mif\u001b[0m \u001b[0mself\u001b[0m\u001b[0;34m.\u001b[0m\u001b[0mcolumns\u001b[0m\u001b[0;34m.\u001b[0m\u001b[0mis_unique\u001b[0m\u001b[0;34m:\u001b[0m\u001b[0;34m\u001b[0m\u001b[0m\n\u001b[0;32m-> 1921\u001b[0;31m             \u001b[0;32mreturn\u001b[0m \u001b[0mself\u001b[0m\u001b[0;34m.\u001b[0m\u001b[0m_get_item_cache\u001b[0m\u001b[0;34m(\u001b[0m\u001b[0mkey\u001b[0m\u001b[0;34m)\u001b[0m\u001b[0;34m\u001b[0m\u001b[0m\n\u001b[0m\u001b[1;32m   1922\u001b[0m \u001b[0;34m\u001b[0m\u001b[0m\n\u001b[1;32m   1923\u001b[0m         \u001b[0;31m# duplicate columns & possible reduce dimensionaility\u001b[0m\u001b[0;34m\u001b[0m\u001b[0;34m\u001b[0m\u001b[0m\n",
      "\u001b[0;32m/usr/local/lib/python2.7/site-packages/pandas/core/generic.pyc\u001b[0m in \u001b[0;36m_get_item_cache\u001b[0;34m(self, item)\u001b[0m\n\u001b[1;32m   1088\u001b[0m         \u001b[0mres\u001b[0m \u001b[0;34m=\u001b[0m \u001b[0mcache\u001b[0m\u001b[0;34m.\u001b[0m\u001b[0mget\u001b[0m\u001b[0;34m(\u001b[0m\u001b[0mitem\u001b[0m\u001b[0;34m)\u001b[0m\u001b[0;34m\u001b[0m\u001b[0m\n\u001b[1;32m   1089\u001b[0m         \u001b[0;32mif\u001b[0m \u001b[0mres\u001b[0m \u001b[0;32mis\u001b[0m \u001b[0mNone\u001b[0m\u001b[0;34m:\u001b[0m\u001b[0;34m\u001b[0m\u001b[0m\n\u001b[0;32m-> 1090\u001b[0;31m             \u001b[0mvalues\u001b[0m \u001b[0;34m=\u001b[0m \u001b[0mself\u001b[0m\u001b[0;34m.\u001b[0m\u001b[0m_data\u001b[0m\u001b[0;34m.\u001b[0m\u001b[0mget\u001b[0m\u001b[0;34m(\u001b[0m\u001b[0mitem\u001b[0m\u001b[0;34m)\u001b[0m\u001b[0;34m\u001b[0m\u001b[0m\n\u001b[0m\u001b[1;32m   1091\u001b[0m             \u001b[0mres\u001b[0m \u001b[0;34m=\u001b[0m \u001b[0mself\u001b[0m\u001b[0;34m.\u001b[0m\u001b[0m_box_item_values\u001b[0m\u001b[0;34m(\u001b[0m\u001b[0mitem\u001b[0m\u001b[0;34m,\u001b[0m \u001b[0mvalues\u001b[0m\u001b[0;34m)\u001b[0m\u001b[0;34m\u001b[0m\u001b[0m\n\u001b[1;32m   1092\u001b[0m             \u001b[0mcache\u001b[0m\u001b[0;34m[\u001b[0m\u001b[0mitem\u001b[0m\u001b[0;34m]\u001b[0m \u001b[0;34m=\u001b[0m \u001b[0mres\u001b[0m\u001b[0;34m\u001b[0m\u001b[0m\n",
      "\u001b[0;32m/usr/local/lib/python2.7/site-packages/pandas/core/internals.pyc\u001b[0m in \u001b[0;36mget\u001b[0;34m(self, item, fastpath)\u001b[0m\n\u001b[1;32m   3100\u001b[0m \u001b[0;34m\u001b[0m\u001b[0m\n\u001b[1;32m   3101\u001b[0m             \u001b[0;32mif\u001b[0m \u001b[0;32mnot\u001b[0m \u001b[0misnull\u001b[0m\u001b[0;34m(\u001b[0m\u001b[0mitem\u001b[0m\u001b[0;34m)\u001b[0m\u001b[0;34m:\u001b[0m\u001b[0;34m\u001b[0m\u001b[0m\n\u001b[0;32m-> 3102\u001b[0;31m                 \u001b[0mloc\u001b[0m \u001b[0;34m=\u001b[0m \u001b[0mself\u001b[0m\u001b[0;34m.\u001b[0m\u001b[0mitems\u001b[0m\u001b[0;34m.\u001b[0m\u001b[0mget_loc\u001b[0m\u001b[0;34m(\u001b[0m\u001b[0mitem\u001b[0m\u001b[0;34m)\u001b[0m\u001b[0;34m\u001b[0m\u001b[0m\n\u001b[0m\u001b[1;32m   3103\u001b[0m             \u001b[0;32melse\u001b[0m\u001b[0;34m:\u001b[0m\u001b[0;34m\u001b[0m\u001b[0m\n\u001b[1;32m   3104\u001b[0m                 \u001b[0mindexer\u001b[0m \u001b[0;34m=\u001b[0m \u001b[0mnp\u001b[0m\u001b[0;34m.\u001b[0m\u001b[0marange\u001b[0m\u001b[0;34m(\u001b[0m\u001b[0mlen\u001b[0m\u001b[0;34m(\u001b[0m\u001b[0mself\u001b[0m\u001b[0;34m.\u001b[0m\u001b[0mitems\u001b[0m\u001b[0;34m)\u001b[0m\u001b[0;34m)\u001b[0m\u001b[0;34m[\u001b[0m\u001b[0misnull\u001b[0m\u001b[0;34m(\u001b[0m\u001b[0mself\u001b[0m\u001b[0;34m.\u001b[0m\u001b[0mitems\u001b[0m\u001b[0;34m)\u001b[0m\u001b[0;34m]\u001b[0m\u001b[0;34m\u001b[0m\u001b[0m\n",
      "\u001b[0;32m/usr/local/lib/python2.7/site-packages/pandas/core/index.pyc\u001b[0m in \u001b[0;36mget_loc\u001b[0;34m(self, key, method, tolerance)\u001b[0m\n\u001b[1;32m   1690\u001b[0m                 raise ValueError('tolerance argument only valid if using pad, '\n\u001b[1;32m   1691\u001b[0m                                  'backfill or nearest lookups')\n\u001b[0;32m-> 1692\u001b[0;31m             \u001b[0;32mreturn\u001b[0m \u001b[0mself\u001b[0m\u001b[0;34m.\u001b[0m\u001b[0m_engine\u001b[0m\u001b[0;34m.\u001b[0m\u001b[0mget_loc\u001b[0m\u001b[0;34m(\u001b[0m\u001b[0m_values_from_object\u001b[0m\u001b[0;34m(\u001b[0m\u001b[0mkey\u001b[0m\u001b[0;34m)\u001b[0m\u001b[0;34m)\u001b[0m\u001b[0;34m\u001b[0m\u001b[0m\n\u001b[0m\u001b[1;32m   1693\u001b[0m \u001b[0;34m\u001b[0m\u001b[0m\n\u001b[1;32m   1694\u001b[0m         indexer = self.get_indexer([key], method=method,\n",
      "\u001b[0;32mpandas/index.pyx\u001b[0m in \u001b[0;36mpandas.index.IndexEngine.get_loc (pandas/index.c:3979)\u001b[0;34m()\u001b[0m\n",
      "\u001b[0;32mpandas/index.pyx\u001b[0m in \u001b[0;36mpandas.index.IndexEngine.get_loc (pandas/index.c:3843)\u001b[0;34m()\u001b[0m\n",
      "\u001b[0;32mpandas/hashtable.pyx\u001b[0m in \u001b[0;36mpandas.hashtable.PyObjectHashTable.get_item (pandas/hashtable.c:12265)\u001b[0;34m()\u001b[0m\n",
      "\u001b[0;32mpandas/hashtable.pyx\u001b[0m in \u001b[0;36mpandas.hashtable.PyObjectHashTable.get_item (pandas/hashtable.c:12216)\u001b[0;34m()\u001b[0m\n",
      "\u001b[0;31mKeyError\u001b[0m: 'sentiment'"
     ]
    }
   ],
   "source": [
    "print \"Training the random forest...\"\n",
    "from sklearn.ensemble import RandomForestClassifier\n",
    "\n",
    "# Initialize a Random Forest classifier with 100 trees\n",
    "forest = RandomForestClassifier(n_estimators = 100) \n",
    "\n",
    "# Fit the forest to the training set, using the bag of words as \n",
    "# features and the sentiment labels as the response variable\n",
    "#\n",
    "# This may take a few minutes to run\n",
    "forest = forest.fit( train_data_features, tweets[\"sentiment\"] )"
   ]
  },
  {
   "cell_type": "markdown",
   "metadata": {},
   "source": [
    "Prediction"
   ]
  },
  {
   "cell_type": "code",
   "execution_count": null,
   "metadata": {
    "collapsed": true
   },
   "outputs": [],
   "source": [
    "# Read the test data\n",
    "test = pd.read_csv(\"testData.tsv\", header=0, delimiter=\"\\t\", \\\n",
    "                   quoting=3 )\n",
    "\n",
    "# Verify that there are 25,000 rows and 2 columns\n",
    "print test.shape\n",
    "\n",
    "# Create an empty list and append the clean reviews one by one\n",
    "num_reviews = len(test[\"text\"])\n",
    "clean_test_reviews = [] \n",
    "\n",
    "print \"Cleaning and parsing the test set...\\n\"\n",
    "for i in xrange(0,num_reviews):\n",
    "    if( (i+1) % 1000 == 0 ):\n",
    "        print \"Text %d of %d\\n\" % (i+1, num_reviews)\n",
    "    clean_review = review_to_words( test[\"text\"][i] )\n",
    "    clean_test_reviews.append( clean_review )\n",
    "\n",
    "# Get a bag of words for the test set, and convert to a numpy array\n",
    "test_data_features = vectorizer.transform(clean_test_reviews)\n",
    "test_data_features = test_data_features.toarray()\n",
    "\n",
    "# Use the random forest to make sentiment label predictions\n",
    "result = forest.predict(test_data_features)\n",
    "\n",
    "# Copy the results to a pandas dataframe with an \"id\" column and\n",
    "# a \"sentiment\" column\n",
    "output = pd.DataFrame( data={\"id\":test[\"id\"], \"sentiment\":result} )\n",
    "\n",
    "# Use pandas to write the comma-separated output file\n",
    "output.to_csv( \"Bag_of_Words_model.csv\", index=False, quoting=3 )"
   ]
  }
 ],
 "metadata": {
  "kernelspec": {
   "display_name": "Python 2",
   "language": "python",
   "name": "python2"
  },
  "language_info": {
   "codemirror_mode": {
    "name": "ipython",
    "version": 2
   },
   "file_extension": ".py",
   "mimetype": "text/x-python",
   "name": "python",
   "nbconvert_exporter": "python",
   "pygments_lexer": "ipython2",
   "version": "2.7.11"
  }
 },
 "nbformat": 4,
 "nbformat_minor": 0
}
